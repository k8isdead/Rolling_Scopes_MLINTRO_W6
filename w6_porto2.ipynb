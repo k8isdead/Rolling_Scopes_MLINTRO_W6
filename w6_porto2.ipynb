{
 "cells": [
  {
   "cell_type": "markdown",
   "metadata": {},
   "source": [
    "# Classification. Linear models and KNN"
   ]
  },
  {
   "cell_type": "markdown",
   "metadata": {},
   "source": [
    "## Part 2: Porto Seguro’s Safe Driver Prediction"
   ]
  },
  {
   "cell_type": "markdown",
   "metadata": {},
   "source": [
    "Let's build a model that predicts the probability that a driver will initiate an auto insurance claim in the next year.\n",
    "Read the detailed description and download the dataset https://www.kaggle.com/c/porto-seguro-safe-driver-prediction/data. Put the data into *./data/porto/*."
   ]
  },
  {
   "cell_type": "code",
   "execution_count": 1,
   "metadata": {},
   "outputs": [],
   "source": [
    "import numpy as np\n",
    "import pandas as pd\n",
    "import matplotlib.pyplot as plt\n",
    "from sklearn.preprocessing import RobustScaler\n",
    "from sklearn.pipeline import make_pipeline\n",
    "from sklearn.linear_model import LogisticRegression, SGDClassifier\n",
    "from sklearn.ensemble import RandomForestClassifier\n",
    "from sklearn.model_selection import cross_val_score\n",
    "\n",
    "import os"
   ]
  },
  {
   "cell_type": "code",
   "execution_count": 2,
   "metadata": {},
   "outputs": [],
   "source": [
    "np.random.seed(42)"
   ]
  },
  {
   "cell_type": "code",
   "execution_count": 3,
   "metadata": {},
   "outputs": [],
   "source": [
    "PATH = \"./data/\""
   ]
  },
  {
   "cell_type": "code",
   "execution_count": 4,
   "metadata": {},
   "outputs": [
    {
     "name": "stdout",
     "output_type": "stream",
     "text": [
      "(595212, 59)\n",
      "(892816, 58)\n"
     ]
    }
   ],
   "source": [
    "# reading data\n",
    "df_train = pd.read_csv(os.path.join(PATH, 'porto', 'train.csv'))\n",
    "df_test = pd.read_csv(os.path.join(PATH, 'porto', 'test.csv'))\n",
    "\n",
    "# data shapes check\n",
    "print(df_train.shape)\n",
    "print(df_test.shape)"
   ]
  },
  {
   "cell_type": "code",
   "execution_count": 5,
   "metadata": {},
   "outputs": [],
   "source": [
    "# Code for calculating Normalized gini coefficient\n",
    "# https://www.kaggle.com/c/ClaimPredictionChallenge/discussion/703\n",
    "def gini(actual, pred, cmpcol = 0, sortcol = 1):  \n",
    "    assert(len(actual) == len(pred))  \n",
    "    epsilon = 1e-7\n",
    "    values = np.asarray(np.c_[actual, pred, np.arange(len(actual))], dtype=np.float)  \n",
    "    values = values[np.lexsort((values[:, 2], -1 * values[:, 1]))]  \n",
    "    total = values[:, 0].sum() \n",
    "    gini_sum = (values[:, 0].cumsum().sum() + epsilon) / (total + epsilon)  \n",
    "  \n",
    "    gini_sum -= (len(actual) + 1) / 2  \n",
    "    return gini_sum / len(actual)  \n",
    "  \n",
    "def gini_normalized(a, p):  \n",
    "    '''Function to calculate the normalized gini coefficient'''\n",
    "    return gini(a, p) / gini(a, a)"
   ]
  },
  {
   "cell_type": "markdown",
   "metadata": {},
   "source": [
    "**(1.5 points)** Prove that the **Normalized Gini Coefficient** is equivalent to **2 x AUC - 1** :"
   ]
  },
  {
   "cell_type": "markdown",
   "metadata": {},
   "source": [
    "![](https://i.stack.imgur.com/Ufea8.gif)"
   ]
  },
  {
   "cell_type": "markdown",
   "metadata": {},
   "source": [
    "Normalized Gini coefficient is most commonly defined as twice the area between the ROC curve and the diagonal (with this area being taken as negative in the rare event that the curve lies below the diagonal). \n",
    "Therefore we have a right triangle with the area of 0.5 (a half of the total plot area). Hence, Gini is equal to Area under ROC curve subtract this right triangle area, 0.5. \n",
    "\n",
    "Hence, Gini + 1 = 2AUC, or Gini = 2AUC - 1."
   ]
  },
  {
   "cell_type": "markdown",
   "metadata": {},
   "source": [
    "**(0.5 points)** By the way, what other metrics could you suggest for this problem?"
   ]
  },
  {
   "cell_type": "markdown",
   "metadata": {},
   "source": [
    "I would suggest that we used some balanced metric, like F-score, for example. For us here it is more important to spot all the drivers who will file a claim next year, so it is more important for us to minimize false negatives, i.e. maximize recall of our model, so F2-score would be a suitable metric here. \n",
    "\n",
    "F2-Measure = (5 * Precision * Recall) / (4 * Precision + Recall)"
   ]
  },
  {
   "cell_type": "markdown",
   "metadata": {},
   "source": [
    "**(0.5 points + Y bonus points)** Try different approaches: oversampling / undersampling, careful feature analysis and feature engineering, etc., to get a reasonable pipeline and improve the model quality. Use cross-validation for model evaluation.\n",
    "\n",
    "Select the best model, load the test set and make the predictions. Submit them to kaggle.\n",
    "Y bonus points will be calculated as $\\frac{round(200 * \\max(score - 0.253, 0))}{2}$, where *score* is your kaggle leaderboard score.\n",
    "\n",
    "Note: do not use any classification models which have not been covered in the lessons yet."
   ]
  },
  {
   "cell_type": "code",
   "execution_count": 6,
   "metadata": {},
   "outputs": [],
   "source": [
    "# assigning some random value to test set rows so that we will be able to find them later\n",
    "df_test['target'] = 10\n",
    "# combining train and test to work on a dataset alltogether\n",
    "df_all = df_train.append(df_test, sort = True)"
   ]
  },
  {
   "cell_type": "code",
   "execution_count": 7,
   "metadata": {
    "scrolled": true
   },
   "outputs": [
    {
     "name": "stdout",
     "output_type": "stream",
     "text": [
      "<class 'pandas.core.frame.DataFrame'>\n",
      "Int64Index: 1488028 entries, 0 to 892815\n",
      "Data columns (total 59 columns):\n",
      " #   Column          Non-Null Count    Dtype  \n",
      "---  ------          --------------    -----  \n",
      " 0   id              1488028 non-null  int64  \n",
      " 1   ps_calc_01      1488028 non-null  float64\n",
      " 2   ps_calc_02      1488028 non-null  float64\n",
      " 3   ps_calc_03      1488028 non-null  float64\n",
      " 4   ps_calc_04      1488028 non-null  int64  \n",
      " 5   ps_calc_05      1488028 non-null  int64  \n",
      " 6   ps_calc_06      1488028 non-null  int64  \n",
      " 7   ps_calc_07      1488028 non-null  int64  \n",
      " 8   ps_calc_08      1488028 non-null  int64  \n",
      " 9   ps_calc_09      1488028 non-null  int64  \n",
      " 10  ps_calc_10      1488028 non-null  int64  \n",
      " 11  ps_calc_11      1488028 non-null  int64  \n",
      " 12  ps_calc_12      1488028 non-null  int64  \n",
      " 13  ps_calc_13      1488028 non-null  int64  \n",
      " 14  ps_calc_14      1488028 non-null  int64  \n",
      " 15  ps_calc_15_bin  1488028 non-null  int64  \n",
      " 16  ps_calc_16_bin  1488028 non-null  int64  \n",
      " 17  ps_calc_17_bin  1488028 non-null  int64  \n",
      " 18  ps_calc_18_bin  1488028 non-null  int64  \n",
      " 19  ps_calc_19_bin  1488028 non-null  int64  \n",
      " 20  ps_calc_20_bin  1488028 non-null  int64  \n",
      " 21  ps_car_01_cat   1488028 non-null  int64  \n",
      " 22  ps_car_02_cat   1488028 non-null  int64  \n",
      " 23  ps_car_03_cat   1488028 non-null  int64  \n",
      " 24  ps_car_04_cat   1488028 non-null  int64  \n",
      " 25  ps_car_05_cat   1488028 non-null  int64  \n",
      " 26  ps_car_06_cat   1488028 non-null  int64  \n",
      " 27  ps_car_07_cat   1488028 non-null  int64  \n",
      " 28  ps_car_08_cat   1488028 non-null  int64  \n",
      " 29  ps_car_09_cat   1488028 non-null  int64  \n",
      " 30  ps_car_10_cat   1488028 non-null  int64  \n",
      " 31  ps_car_11       1488028 non-null  int64  \n",
      " 32  ps_car_11_cat   1488028 non-null  int64  \n",
      " 33  ps_car_12       1488028 non-null  float64\n",
      " 34  ps_car_13       1488028 non-null  float64\n",
      " 35  ps_car_14       1488028 non-null  float64\n",
      " 36  ps_car_15       1488028 non-null  float64\n",
      " 37  ps_ind_01       1488028 non-null  int64  \n",
      " 38  ps_ind_02_cat   1488028 non-null  int64  \n",
      " 39  ps_ind_03       1488028 non-null  int64  \n",
      " 40  ps_ind_04_cat   1488028 non-null  int64  \n",
      " 41  ps_ind_05_cat   1488028 non-null  int64  \n",
      " 42  ps_ind_06_bin   1488028 non-null  int64  \n",
      " 43  ps_ind_07_bin   1488028 non-null  int64  \n",
      " 44  ps_ind_08_bin   1488028 non-null  int64  \n",
      " 45  ps_ind_09_bin   1488028 non-null  int64  \n",
      " 46  ps_ind_10_bin   1488028 non-null  int64  \n",
      " 47  ps_ind_11_bin   1488028 non-null  int64  \n",
      " 48  ps_ind_12_bin   1488028 non-null  int64  \n",
      " 49  ps_ind_13_bin   1488028 non-null  int64  \n",
      " 50  ps_ind_14       1488028 non-null  int64  \n",
      " 51  ps_ind_15       1488028 non-null  int64  \n",
      " 52  ps_ind_16_bin   1488028 non-null  int64  \n",
      " 53  ps_ind_17_bin   1488028 non-null  int64  \n",
      " 54  ps_ind_18_bin   1488028 non-null  int64  \n",
      " 55  ps_reg_01       1488028 non-null  float64\n",
      " 56  ps_reg_02       1488028 non-null  float64\n",
      " 57  ps_reg_03       1488028 non-null  float64\n",
      " 58  target          1488028 non-null  int64  \n",
      "dtypes: float64(10), int64(49)\n",
      "memory usage: 681.2 MB\n"
     ]
    }
   ],
   "source": [
    "# let's look at our data\n",
    "df_all.info()"
   ]
  },
  {
   "cell_type": "markdown",
   "metadata": {},
   "source": [
    "Now it looks like we don't have any missing values but it's not true."
   ]
  },
  {
   "cell_type": "code",
   "execution_count": 8,
   "metadata": {
    "scrolled": true
   },
   "outputs": [
    {
     "name": "stdout",
     "output_type": "stream",
     "text": [
      "<class 'pandas.core.frame.DataFrame'>\n",
      "Int64Index: 1488028 entries, 0 to 892815\n",
      "Data columns (total 59 columns):\n",
      " #   Column          Non-Null Count    Dtype  \n",
      "---  ------          --------------    -----  \n",
      " 0   id              1488028 non-null  int64  \n",
      " 1   ps_calc_01      1488028 non-null  float64\n",
      " 2   ps_calc_02      1488028 non-null  float64\n",
      " 3   ps_calc_03      1488028 non-null  float64\n",
      " 4   ps_calc_04      1488028 non-null  int64  \n",
      " 5   ps_calc_05      1488028 non-null  int64  \n",
      " 6   ps_calc_06      1488028 non-null  int64  \n",
      " 7   ps_calc_07      1488028 non-null  int64  \n",
      " 8   ps_calc_08      1488028 non-null  int64  \n",
      " 9   ps_calc_09      1488028 non-null  int64  \n",
      " 10  ps_calc_10      1488028 non-null  int64  \n",
      " 11  ps_calc_11      1488028 non-null  int64  \n",
      " 12  ps_calc_12      1488028 non-null  int64  \n",
      " 13  ps_calc_13      1488028 non-null  int64  \n",
      " 14  ps_calc_14      1488028 non-null  int64  \n",
      " 15  ps_calc_15_bin  1488028 non-null  int64  \n",
      " 16  ps_calc_16_bin  1488028 non-null  int64  \n",
      " 17  ps_calc_17_bin  1488028 non-null  int64  \n",
      " 18  ps_calc_18_bin  1488028 non-null  int64  \n",
      " 19  ps_calc_19_bin  1488028 non-null  int64  \n",
      " 20  ps_calc_20_bin  1488028 non-null  int64  \n",
      " 21  ps_car_01_cat   1487761 non-null  float64\n",
      " 22  ps_car_02_cat   1488018 non-null  float64\n",
      " 23  ps_car_03_cat   459886 non-null   float64\n",
      " 24  ps_car_04_cat   1488028 non-null  int64  \n",
      " 25  ps_car_05_cat   821118 non-null   float64\n",
      " 26  ps_car_06_cat   1488028 non-null  int64  \n",
      " 27  ps_car_07_cat   1459208 non-null  float64\n",
      " 28  ps_car_08_cat   1488028 non-null  int64  \n",
      " 29  ps_car_09_cat   1486582 non-null  float64\n",
      " 30  ps_car_10_cat   1488028 non-null  int64  \n",
      " 31  ps_car_11       1488022 non-null  float64\n",
      " 32  ps_car_11_cat   1488028 non-null  int64  \n",
      " 33  ps_car_12       1488027 non-null  float64\n",
      " 34  ps_car_13       1488028 non-null  float64\n",
      " 35  ps_car_14       1381603 non-null  float64\n",
      " 36  ps_car_15       1488028 non-null  float64\n",
      " 37  ps_ind_01       1488028 non-null  int64  \n",
      " 38  ps_ind_02_cat   1487505 non-null  float64\n",
      " 39  ps_ind_03       1488028 non-null  int64  \n",
      " 40  ps_ind_04_cat   1487800 non-null  float64\n",
      " 41  ps_ind_05_cat   1473509 non-null  float64\n",
      " 42  ps_ind_06_bin   1488028 non-null  int64  \n",
      " 43  ps_ind_07_bin   1488028 non-null  int64  \n",
      " 44  ps_ind_08_bin   1488028 non-null  int64  \n",
      " 45  ps_ind_09_bin   1488028 non-null  int64  \n",
      " 46  ps_ind_10_bin   1488028 non-null  int64  \n",
      " 47  ps_ind_11_bin   1488028 non-null  int64  \n",
      " 48  ps_ind_12_bin   1488028 non-null  int64  \n",
      " 49  ps_ind_13_bin   1488028 non-null  int64  \n",
      " 50  ps_ind_14       1488028 non-null  int64  \n",
      " 51  ps_ind_15       1488028 non-null  int64  \n",
      " 52  ps_ind_16_bin   1488028 non-null  int64  \n",
      " 53  ps_ind_17_bin   1488028 non-null  int64  \n",
      " 54  ps_ind_18_bin   1488028 non-null  int64  \n",
      " 55  ps_reg_01       1488028 non-null  float64\n",
      " 56  ps_reg_02       1488028 non-null  float64\n",
      " 57  ps_reg_03       1218572 non-null  float64\n",
      " 58  target          1488028 non-null  int64  \n",
      "dtypes: float64(20), int64(39)\n",
      "memory usage: 681.2 MB\n"
     ]
    }
   ],
   "source": [
    "# replacing (-1) with NaN - the description of the dataset says that -1 is a missing value in our case\n",
    "df_all.replace(-1, np.nan, inplace=True)\n",
    "# one more summary - not that perfect anymore\n",
    "df_all.info()"
   ]
  },
  {
   "cell_type": "code",
   "execution_count": 9,
   "metadata": {},
   "outputs": [],
   "source": [
    "# listing all the categorical features that have NaN values\n",
    "categorical_na = ['ps_ind_02_cat', 'ps_ind_04_cat', 'ps_ind_05_cat', 'ps_car_01_cat', 'ps_car_02_cat', 'ps_car_03_cat',\\\n",
    "          'ps_car_05_cat', 'ps_car_07_cat', 'ps_car_09_cat']"
   ]
  },
  {
   "cell_type": "code",
   "execution_count": 10,
   "metadata": {},
   "outputs": [
    {
     "data": {
      "image/png": "[encoded data removed]",
      "text/plain": [
       "<Figure size 432x288 with 1 Axes>"
      ]
     },
     "metadata": {
      "needs_background": "light"
     },
     "output_type": "display_data"
    },
    {
     "data": {
      "image/png": "[encoded data removed]",
      "text/plain": [
       "<Figure size 432x288 with 1 Axes>"
      ]
     },
     "metadata": {
      "needs_background": "light"
     },
     "output_type": "display_data"
    },
    {
     "data": {
      "image/png": "[encoded data removed]",
      "text/plain": [
       "<Figure size 432x288 with 1 Axes>"
      ]
     },
     "metadata": {
      "needs_background": "light"
     },
     "output_type": "display_data"
    },
    {
     "data": {
      "image/png": "[encoded data removed]",
      "text/plain": [
       "<Figure size 432x288 with 1 Axes>"
      ]
     },
     "metadata": {
      "needs_background": "light"
     },
     "output_type": "display_data"
    },
    {
     "data": {
      "image/png": "[encoded data removed]",
      "text/plain": [
       "<Figure size 432x288 with 1 Axes>"
      ]
     },
     "metadata": {
      "needs_background": "light"
     },
     "output_type": "display_data"
    },
    {
     "data": {
      "image/png": "[encoded data removed]",
      "text/plain": [
       "<Figure size 432x288 with 1 Axes>"
      ]
     },
     "metadata": {
      "needs_background": "light"
     },
     "output_type": "display_data"
    },
    {
     "data": {
      "image/png": "[encoded data removed]",
      "text/plain": [
       "<Figure size 432x288 with 1 Axes>"
      ]
     },
     "metadata": {
      "needs_background": "light"
     },
     "output_type": "display_data"
    },
    {
     "data": {
      "image/png": "[encoded data removed]",
      "text/plain": [
       "<Figure size 432x288 with 1 Axes>"
      ]
     },
     "metadata": {
      "needs_background": "light"
     },
     "output_type": "display_data"
    },
    {
     "data": {
      "image/png": "[encoded data removed]",
      "text/plain": [
       "<Figure size 432x288 with 1 Axes>"
      ]
     },
     "metadata": {
      "needs_background": "light"
     },
     "output_type": "display_data"
    }
   ],
   "source": [
    "# let's plot the frequency count of each category for each of the categorical variables that contain missing vals\n",
    "for variable in categorical_na:\n",
    "    my_tab = pd.crosstab(index = df_all[variable], columns=\"count\")    \n",
    "    my_tab.plot.bar()\n",
    "    plt.show()"
   ]
  },
  {
   "cell_type": "markdown",
   "metadata": {},
   "source": [
    "In every bar chart there is a big difference in the frequency counts for the categories. \n",
    "So I suggest that we fill up the missing values with the most common value of the column."
   ]
  },
  {
   "cell_type": "code",
   "execution_count": 11,
   "metadata": {},
   "outputs": [],
   "source": [
    "# filling NaNs with the most common value, i.e. mode\n",
    "for variable in categorical_na:\n",
    "    df_all[variable] = df_all[variable].fillna(df_all[variable].mode()[0])"
   ]
  },
  {
   "cell_type": "code",
   "execution_count": 12,
   "metadata": {},
   "outputs": [],
   "source": [
    "# here are all the continuous variables that contain NaN\n",
    "continuous_na = ['ps_reg_03', 'ps_car_11', 'ps_car_12', 'ps_car_14']\n",
    "# let's fill NaNs with mean value\n",
    "for variable in continuous_na:\n",
    "    df_all[variable] = df_all[variable].fillna(df_all[variable].mean())"
   ]
  },
  {
   "cell_type": "code",
   "execution_count": 13,
   "metadata": {
    "scrolled": true
   },
   "outputs": [
    {
     "name": "stdout",
     "output_type": "stream",
     "text": [
      "                Unique values count     Type\n",
      "id                          1488028    int64\n",
      "ps_calc_01                       10  float64\n",
      "ps_calc_02                       10  float64\n",
      "ps_calc_03                       10  float64\n",
      "ps_calc_04                        6    int64\n",
      "ps_calc_05                        7    int64\n",
      "ps_calc_06                       11    int64\n",
      "ps_calc_07                       10    int64\n",
      "ps_calc_08                       12    int64\n",
      "ps_calc_09                        8    int64\n",
      "ps_calc_10                       26    int64\n",
      "ps_calc_11                       21    int64\n",
      "ps_calc_12                       12    int64\n",
      "ps_calc_13                       16    int64\n",
      "ps_calc_14                       25    int64\n",
      "ps_calc_15_bin                    2    int64\n",
      "ps_calc_16_bin                    2    int64\n",
      "ps_calc_17_bin                    2    int64\n",
      "ps_calc_18_bin                    2    int64\n",
      "ps_calc_19_bin                    2    int64\n",
      "ps_calc_20_bin                    2    int64\n",
      "ps_car_01_cat                    12  float64\n",
      "ps_car_02_cat                     2  float64\n",
      "ps_car_03_cat                     2  float64\n",
      "ps_car_04_cat                    10    int64\n",
      "ps_car_05_cat                     2  float64\n",
      "ps_car_06_cat                    18    int64\n",
      "ps_car_07_cat                     2  float64\n",
      "ps_car_08_cat                     2    int64\n",
      "ps_car_09_cat                     5  float64\n",
      "ps_car_10_cat                     3    int64\n",
      "ps_car_11                         5  float64\n",
      "ps_car_11_cat                   104    int64\n",
      "ps_car_12                       214  float64\n",
      "ps_car_13                    104192  float64\n",
      "ps_car_14                       905  float64\n",
      "ps_car_15                        15  float64\n",
      "ps_ind_01                         8    int64\n",
      "ps_ind_02_cat                     4  float64\n",
      "ps_ind_03                        12    int64\n",
      "ps_ind_04_cat                     2  float64\n",
      "ps_ind_05_cat                     7  float64\n",
      "ps_ind_06_bin                     2    int64\n",
      "ps_ind_07_bin                     2    int64\n",
      "ps_ind_08_bin                     2    int64\n",
      "ps_ind_09_bin                     2    int64\n",
      "ps_ind_10_bin                     2    int64\n",
      "ps_ind_11_bin                     2    int64\n",
      "ps_ind_12_bin                     2    int64\n",
      "ps_ind_13_bin                     2    int64\n",
      "ps_ind_14                         5    int64\n",
      "ps_ind_15                        14    int64\n",
      "ps_ind_16_bin                     2    int64\n",
      "ps_ind_17_bin                     2    int64\n",
      "ps_ind_18_bin                     2    int64\n",
      "ps_reg_01                        10  float64\n",
      "ps_reg_02                        19  float64\n",
      "ps_reg_03                      5077  float64\n",
      "target                            3    int64\n"
     ]
    }
   ],
   "source": [
    "# calculating the number of unique values in each column\n",
    "def count_unique_value(dataframe):\n",
    "    df = pd.DataFrame()\n",
    "    df['Unique values count'] = dataframe.nunique()\n",
    "    df['Type'] = dataframe.dtypes\n",
    "    return df\n",
    "\n",
    "print(count_unique_value(df_all))"
   ]
  },
  {
   "cell_type": "code",
   "execution_count": 14,
   "metadata": {},
   "outputs": [],
   "source": [
    "# converting to a categorical variable if a column has less than 20 unique values\n",
    "def to_categorical(dataframe):\n",
    "    col = dataframe.columns\n",
    "    for i in col:\n",
    "        if dataframe[i].nunique()<=20:\n",
    "            dataframe[i] = dataframe[i].astype('category')\n",
    "    \n",
    "to_categorical(df_all)\n",
    "\n",
    "# changing target to int64 \n",
    "df_all['target'] = df_all['target'].astype('int64')"
   ]
  },
  {
   "cell_type": "code",
   "execution_count": 15,
   "metadata": {},
   "outputs": [],
   "source": [
    "# converting categorical variables to dummies (indicator variables)\n",
    "df_all_dummy = pd.get_dummies(df_all, drop_first = True)"
   ]
  },
  {
   "cell_type": "code",
   "execution_count": 16,
   "metadata": {},
   "outputs": [],
   "source": [
    "# splitting back to training and test sets (that's where our target=10 comes in handy)\n",
    "df_train_adj = df_all_dummy[df_all_dummy['target'] != 10]\n",
    "df_test_adj = df_all_dummy[df_all_dummy['target'] == 10]"
   ]
  },
  {
   "cell_type": "code",
   "execution_count": 17,
   "metadata": {},
   "outputs": [],
   "source": [
    "# splitting training set to X and y\n",
    "X = df_train_adj.drop(['target','id'], axis = 1)\n",
    "#Extract labels from training set\n",
    "y = df_train_adj['target']"
   ]
  },
  {
   "cell_type": "code",
   "execution_count": 18,
   "metadata": {},
   "outputs": [],
   "source": [
    "# Logistic Regression model with robust scaler\n",
    "logreg = make_pipeline(RobustScaler(), LogisticRegression(solver='liblinear', max_iter=100))"
   ]
  },
  {
   "cell_type": "code",
   "execution_count": 19,
   "metadata": {},
   "outputs": [],
   "source": [
    "# checking model performance\n",
    "score = cross_val_score(logreg, X, y, cv=5, scoring='roc_auc')"
   ]
  },
  {
   "cell_type": "code",
   "execution_count": 20,
   "metadata": {},
   "outputs": [
    {
     "name": "stdout",
     "output_type": "stream",
     "text": [
      "\n",
      "Logistic Regression Score: 0.63367 (0.00214)\n",
      "\n",
      "Normalized Gini 0.26734657023509145\n"
     ]
    }
   ],
   "source": [
    "print(\"\\nLogistic Regression Score: {:.5f} ({:.5f})\\n\".format(score.mean(), score.std()))\n",
    "print(f\"Normalized Gini {2*score.mean() - 1}\")"
   ]
  },
  {
   "cell_type": "code",
   "execution_count": 21,
   "metadata": {},
   "outputs": [],
   "source": [
    "# submission preparation\n",
    "test_df_x = df_test_adj.drop(['target', 'id'], axis = 1)\n",
    "logreg.fit(X, y)\n",
    "\n",
    "# predicting probability\n",
    "test_df_y = logreg.predict_proba(test_df_x)[:,1]"
   ]
  },
  {
   "cell_type": "code",
   "execution_count": 22,
   "metadata": {},
   "outputs": [],
   "source": [
    "temp = pd.DataFrame(pd.read_csv(os.path.join(PATH, 'porto', 'test.csv'))['id'])"
   ]
  },
  {
   "cell_type": "code",
   "execution_count": 23,
   "metadata": {},
   "outputs": [],
   "source": [
    "temp['target'] = test_df_y\n",
    "temp.to_csv(\"submission2.csv\", index = False)\n",
    "# and we our ready to rock!# and we our ready to rock!"
   ]
  },
  {
   "cell_type": "markdown",
   "metadata": {},
   "source": [
    "public Kaggle leaderboard score: 0.26671\n",
    "\n",
    "private Kaggle leaderboard score: 0.27073\n",
    "\n",
    "https://www.kaggle.com/k8isdead\n",
    "\n",
    "Ekaterina Martynko"
   ]
  },
  {
   "cell_type": "markdown",
   "metadata": {},
   "source": [
    "![](https://sun9-8.userapi.com/impf/wso9a7e5fq87d-XsD7c3cLw4L-h_sKpVHc8JCg/qKtWuI_K93M.jpg?size=861x209&quality=96&sign=987746432c3b389aa7a9a6d3865441f6&type=album)"
   ]
  }
 ],
 "metadata": {
  "kernelspec": {
   "display_name": "Python 3",
   "language": "python",
   "name": "python3"
  },
  "language_info": {
   "codemirror_mode": {
    "name": "ipython",
    "version": 3
   },
   "file_extension": ".py",
   "mimetype": "text/x-python",
   "name": "python",
   "nbconvert_exporter": "python",
   "pygments_lexer": "ipython3",
   "version": "3.8.3"
  }
 },
 "nbformat": 4,
 "nbformat_minor": 4
}
