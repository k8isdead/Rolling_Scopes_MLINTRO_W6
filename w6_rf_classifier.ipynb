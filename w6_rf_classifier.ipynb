{
 "cells": [
  {
   "cell_type": "markdown",
   "metadata": {},
   "source": [
    "# Introduction"
   ]
  },
  {
   "cell_type": "markdown",
   "metadata": {},
   "source": [
    "Fortunately, with libraries such as Scikit-Learn, it’s now easy to build and use almost any machine learning algorithm. But it’s helpful to have an idea of how a machine learning model works under the hood. This lets us diagnose the model when it’s underperforming or explain how it makes decisions, which is crucial if we want to convince others to trust our models.\n",
    "In this assignment, we’ll look at how to build and use the Decision Tree and the Random Forest in Python. We’ll start by understanding how a single decision tree makes classifications on a simple problem. Then, we’ll work our way to using a random forest on a real-world data science problem."
   ]
  },
  {
   "cell_type": "markdown",
   "metadata": {},
   "source": [
    "# Dataset"
   ]
  },
  {
   "cell_type": "markdown",
   "metadata": {},
   "source": [
    "The dataset we will use in this assignment is the Sonar dataset.\n",
    "\n",
    "This is a dataset that describes sonar chirp returns bouncing off different surfaces. The 60 predictors are the strength of the returns at different angles. It is a binary classification problem that requires a model to differentiate rocks from metal cylinders. There are 208 observations.\n",
    "\n",
    "It is a well-understood dataset. All of the variables are continuous and generally in the range of 0 to 1. The output variable is a string “M” for mine and “R” for rock, which will need to be converted to integers 1 and 0.\n",
    "\n",
    "By predicting the class with the most observations in the dataset (M or mines) the Zero Rule Algorithm can achieve an accuracy of 53%.\n",
    "\n",
    "You can learn more about this dataset at the UCI Machine Learning repository.\n",
    "https://archive.ics.uci.edu/ml/datasets/Connectionist+Bench+(Sonar,+Mines+vs.+Rocks)\n",
    "\n",
    "Download the dataset for free and place it in the \"data\" folder in your working directory with the filename sonar.all-data.csv."
   ]
  },
  {
   "cell_type": "markdown",
   "metadata": {},
   "source": [
    "# Import section"
   ]
  },
  {
   "cell_type": "code",
   "execution_count": 154,
   "metadata": {
    "ExecuteTime": {
     "end_time": "2020-12-01T08:48:35.022113Z",
     "start_time": "2020-12-01T08:48:34.335814Z"
    }
   },
   "outputs": [
    {
     "data": {
      "text/plain": [
       "RandomState(MT19937) at 0x23076CCBE40"
      ]
     },
     "execution_count": 154,
     "metadata": {},
     "output_type": "execute_result"
    }
   ],
   "source": [
    "import random\n",
    "import numpy as np\n",
    "import pandas as pd\n",
    "from sklearn.model_selection import train_test_split, GridSearchCV, RandomizedSearchCV\n",
    "from sklearn.metrics import accuracy_score\n",
    "import seaborn as sns\n",
    "import matplotlib.pyplot as plt\n",
    "import copy\n",
    "\n",
    "np.random.seed(2021)\n",
    "random.seed(2021)\n",
    "np.random.RandomState(2021)"
   ]
  },
  {
   "cell_type": "markdown",
   "metadata": {},
   "source": [
    "# Preprocess data"
   ]
  },
  {
   "cell_type": "markdown",
   "metadata": {},
   "source": [
    "Read data and convert targets to integers 1 and 0."
   ]
  },
  {
   "cell_type": "code",
   "execution_count": 155,
   "metadata": {
    "ExecuteTime": {
     "end_time": "2020-12-01T08:48:35.618412Z",
     "start_time": "2020-12-01T08:48:35.579547Z"
    }
   },
   "outputs": [
    {
     "data": {
      "text/html": [
       "<div>\n",
       "<style scoped>\n",
       "    .dataframe tbody tr th:only-of-type {\n",
       "        vertical-align: middle;\n",
       "    }\n",
       "\n",
       "    .dataframe tbody tr th {\n",
       "        vertical-align: top;\n",
       "    }\n",
       "\n",
       "    .dataframe thead th {\n",
       "        text-align: right;\n",
       "    }\n",
       "</style>\n",
       "<table border=\"1\" class=\"dataframe\">\n",
       "  <thead>\n",
       "    <tr style=\"text-align: right;\">\n",
       "      <th></th>\n",
       "      <th>feat_0</th>\n",
       "      <th>feat_1</th>\n",
       "      <th>feat_2</th>\n",
       "      <th>feat_3</th>\n",
       "      <th>feat_4</th>\n",
       "      <th>feat_5</th>\n",
       "      <th>feat_6</th>\n",
       "      <th>feat_7</th>\n",
       "      <th>feat_8</th>\n",
       "      <th>feat_9</th>\n",
       "      <th>...</th>\n",
       "      <th>feat_51</th>\n",
       "      <th>feat_52</th>\n",
       "      <th>feat_53</th>\n",
       "      <th>feat_54</th>\n",
       "      <th>feat_55</th>\n",
       "      <th>feat_56</th>\n",
       "      <th>feat_57</th>\n",
       "      <th>feat_58</th>\n",
       "      <th>feat_59</th>\n",
       "      <th>target</th>\n",
       "    </tr>\n",
       "  </thead>\n",
       "  <tbody>\n",
       "    <tr>\n",
       "      <th>0</th>\n",
       "      <td>0.0200</td>\n",
       "      <td>0.0371</td>\n",
       "      <td>0.0428</td>\n",
       "      <td>0.0207</td>\n",
       "      <td>0.0954</td>\n",
       "      <td>0.0986</td>\n",
       "      <td>0.1539</td>\n",
       "      <td>0.1601</td>\n",
       "      <td>0.3109</td>\n",
       "      <td>0.2111</td>\n",
       "      <td>...</td>\n",
       "      <td>0.0027</td>\n",
       "      <td>0.0065</td>\n",
       "      <td>0.0159</td>\n",
       "      <td>0.0072</td>\n",
       "      <td>0.0167</td>\n",
       "      <td>0.0180</td>\n",
       "      <td>0.0084</td>\n",
       "      <td>0.0090</td>\n",
       "      <td>0.0032</td>\n",
       "      <td>0</td>\n",
       "    </tr>\n",
       "    <tr>\n",
       "      <th>1</th>\n",
       "      <td>0.0453</td>\n",
       "      <td>0.0523</td>\n",
       "      <td>0.0843</td>\n",
       "      <td>0.0689</td>\n",
       "      <td>0.1183</td>\n",
       "      <td>0.2583</td>\n",
       "      <td>0.2156</td>\n",
       "      <td>0.3481</td>\n",
       "      <td>0.3337</td>\n",
       "      <td>0.2872</td>\n",
       "      <td>...</td>\n",
       "      <td>0.0084</td>\n",
       "      <td>0.0089</td>\n",
       "      <td>0.0048</td>\n",
       "      <td>0.0094</td>\n",
       "      <td>0.0191</td>\n",
       "      <td>0.0140</td>\n",
       "      <td>0.0049</td>\n",
       "      <td>0.0052</td>\n",
       "      <td>0.0044</td>\n",
       "      <td>0</td>\n",
       "    </tr>\n",
       "    <tr>\n",
       "      <th>2</th>\n",
       "      <td>0.0262</td>\n",
       "      <td>0.0582</td>\n",
       "      <td>0.1099</td>\n",
       "      <td>0.1083</td>\n",
       "      <td>0.0974</td>\n",
       "      <td>0.2280</td>\n",
       "      <td>0.2431</td>\n",
       "      <td>0.3771</td>\n",
       "      <td>0.5598</td>\n",
       "      <td>0.6194</td>\n",
       "      <td>...</td>\n",
       "      <td>0.0232</td>\n",
       "      <td>0.0166</td>\n",
       "      <td>0.0095</td>\n",
       "      <td>0.0180</td>\n",
       "      <td>0.0244</td>\n",
       "      <td>0.0316</td>\n",
       "      <td>0.0164</td>\n",
       "      <td>0.0095</td>\n",
       "      <td>0.0078</td>\n",
       "      <td>0</td>\n",
       "    </tr>\n",
       "    <tr>\n",
       "      <th>3</th>\n",
       "      <td>0.0100</td>\n",
       "      <td>0.0171</td>\n",
       "      <td>0.0623</td>\n",
       "      <td>0.0205</td>\n",
       "      <td>0.0205</td>\n",
       "      <td>0.0368</td>\n",
       "      <td>0.1098</td>\n",
       "      <td>0.1276</td>\n",
       "      <td>0.0598</td>\n",
       "      <td>0.1264</td>\n",
       "      <td>...</td>\n",
       "      <td>0.0121</td>\n",
       "      <td>0.0036</td>\n",
       "      <td>0.0150</td>\n",
       "      <td>0.0085</td>\n",
       "      <td>0.0073</td>\n",
       "      <td>0.0050</td>\n",
       "      <td>0.0044</td>\n",
       "      <td>0.0040</td>\n",
       "      <td>0.0117</td>\n",
       "      <td>0</td>\n",
       "    </tr>\n",
       "    <tr>\n",
       "      <th>4</th>\n",
       "      <td>0.0762</td>\n",
       "      <td>0.0666</td>\n",
       "      <td>0.0481</td>\n",
       "      <td>0.0394</td>\n",
       "      <td>0.0590</td>\n",
       "      <td>0.0649</td>\n",
       "      <td>0.1209</td>\n",
       "      <td>0.2467</td>\n",
       "      <td>0.3564</td>\n",
       "      <td>0.4459</td>\n",
       "      <td>...</td>\n",
       "      <td>0.0031</td>\n",
       "      <td>0.0054</td>\n",
       "      <td>0.0105</td>\n",
       "      <td>0.0110</td>\n",
       "      <td>0.0015</td>\n",
       "      <td>0.0072</td>\n",
       "      <td>0.0048</td>\n",
       "      <td>0.0107</td>\n",
       "      <td>0.0094</td>\n",
       "      <td>0</td>\n",
       "    </tr>\n",
       "  </tbody>\n",
       "</table>\n",
       "<p>5 rows × 61 columns</p>\n",
       "</div>"
      ],
      "text/plain": [
       "   feat_0  feat_1  feat_2  feat_3  feat_4  feat_5  feat_6  feat_7  feat_8  \\\n",
       "0  0.0200  0.0371  0.0428  0.0207  0.0954  0.0986  0.1539  0.1601  0.3109   \n",
       "1  0.0453  0.0523  0.0843  0.0689  0.1183  0.2583  0.2156  0.3481  0.3337   \n",
       "2  0.0262  0.0582  0.1099  0.1083  0.0974  0.2280  0.2431  0.3771  0.5598   \n",
       "3  0.0100  0.0171  0.0623  0.0205  0.0205  0.0368  0.1098  0.1276  0.0598   \n",
       "4  0.0762  0.0666  0.0481  0.0394  0.0590  0.0649  0.1209  0.2467  0.3564   \n",
       "\n",
       "   feat_9  ...  feat_51  feat_52  feat_53  feat_54  feat_55  feat_56  feat_57  \\\n",
       "0  0.2111  ...   0.0027   0.0065   0.0159   0.0072   0.0167   0.0180   0.0084   \n",
       "1  0.2872  ...   0.0084   0.0089   0.0048   0.0094   0.0191   0.0140   0.0049   \n",
       "2  0.6194  ...   0.0232   0.0166   0.0095   0.0180   0.0244   0.0316   0.0164   \n",
       "3  0.1264  ...   0.0121   0.0036   0.0150   0.0085   0.0073   0.0050   0.0044   \n",
       "4  0.4459  ...   0.0031   0.0054   0.0105   0.0110   0.0015   0.0072   0.0048   \n",
       "\n",
       "   feat_58  feat_59  target  \n",
       "0   0.0090   0.0032       0  \n",
       "1   0.0052   0.0044       0  \n",
       "2   0.0095   0.0078       0  \n",
       "3   0.0040   0.0117       0  \n",
       "4   0.0107   0.0094       0  \n",
       "\n",
       "[5 rows x 61 columns]"
      ]
     },
     "execution_count": 155,
     "metadata": {},
     "output_type": "execute_result"
    }
   ],
   "source": [
    "PATH = 'data/'\n",
    "df = pd.read_csv(PATH+'sonar-all-data.csv', header=None)\n",
    "df.columns = [f'feat_{col}' if col!=60 else 'target' for col in df.columns]\n",
    "df['target'] = df['target'].map({'M': 1, 'R': 0})\n",
    "df.head()"
   ]
  },
  {
   "cell_type": "markdown",
   "metadata": {},
   "source": [
    "# Split data (train and test)"
   ]
  },
  {
   "cell_type": "code",
   "execution_count": 156,
   "metadata": {
    "ExecuteTime": {
     "end_time": "2020-12-01T08:48:36.554013Z",
     "start_time": "2020-12-01T08:48:36.548028Z"
    }
   },
   "outputs": [],
   "source": [
    "X_train, X_test, y_train, y_test = train_test_split(df.drop(columns='target'), df['target'], test_size=0.2, random_state=2020)"
   ]
  },
  {
   "cell_type": "markdown",
   "metadata": {},
   "source": [
    "# Cost functions"
   ]
  },
  {
   "cell_type": "markdown",
   "metadata": {},
   "source": [
    "In this section you should implement two cost functions. Any of these can be used in the model."
   ]
  },
  {
   "cell_type": "markdown",
   "metadata": {},
   "source": [
    "## Gini index"
   ]
  },
  {
   "cell_type": "code",
   "execution_count": 157,
   "metadata": {
    "ExecuteTime": {
     "end_time": "2020-12-01T08:48:38.113015Z",
     "start_time": "2020-12-01T08:48:38.108028Z"
    }
   },
   "outputs": [],
   "source": [
    "def gini_index(x):\n",
    "    \"\"\" Calculate Gini Index for a node\n",
    "    Args:\n",
    "        x: Numpy-array of targets in a node\n",
    "    Returns:\n",
    "        float: Gini index\n",
    "    \"\"\"    \n",
    "    if len(x) == 0:\n",
    "        return 0.0\n",
    "    p = np.bincount(x) / len(x)\n",
    "    return 1 - np.sum(p*p)"
   ]
  },
  {
   "cell_type": "code",
   "execution_count": 158,
   "metadata": {
    "ExecuteTime": {
     "end_time": "2020-12-01T08:48:38.326622Z",
     "start_time": "2020-12-01T08:48:38.320603Z"
    }
   },
   "outputs": [
    {
     "data": {
      "text/plain": [
       "0.4977348372781065"
      ]
     },
     "execution_count": 158,
     "metadata": {},
     "output_type": "execute_result"
    }
   ],
   "source": [
    "target = df['target'].values\n",
    "gini_index(target)"
   ]
  },
  {
   "cell_type": "code",
   "execution_count": 159,
   "metadata": {
    "ExecuteTime": {
     "end_time": "2020-12-01T08:48:38.517903Z",
     "start_time": "2020-12-01T08:48:38.512916Z"
    }
   },
   "outputs": [],
   "source": [
    "def gini_gain(parent_node, splits):\n",
    "    \"\"\" Calculate Gini Gain for a particular split\n",
    "    Args:\n",
    "        parent_node: Numpy-array of targets in a parent node\n",
    "        splits: List of two numpy-arrays. Each numpy-array is targets in a child node\n",
    "    Returns:\n",
    "        float: Gini gain\n",
    "    \"\"\"       \n",
    "    splits_gini = np.sum([gini_index(split)*(len(split)/len(parent_node)) for split in splits])\n",
    "    return gini_index(parent_node) - splits_gini"
   ]
  },
  {
   "cell_type": "code",
   "execution_count": 160,
   "metadata": {
    "ExecuteTime": {
     "end_time": "2020-12-01T08:48:38.731542Z",
     "start_time": "2020-12-01T08:48:38.719612Z"
    }
   },
   "outputs": [
    {
     "data": {
      "text/plain": [
       "0.010099509642778837"
      ]
     },
     "execution_count": 160,
     "metadata": {},
     "output_type": "execute_result"
    }
   ],
   "source": [
    "splits = [np.random.choice(df['target'].values, 100), np.random.choice(df['target'].values, 108)]\n",
    "gini_gain(target, splits)"
   ]
  },
  {
   "cell_type": "markdown",
   "metadata": {},
   "source": [
    "## Entropy"
   ]
  },
  {
   "cell_type": "code",
   "execution_count": 161,
   "metadata": {
    "ExecuteTime": {
     "end_time": "2020-12-01T08:48:39.080145Z",
     "start_time": "2020-12-01T08:48:39.075122Z"
    }
   },
   "outputs": [],
   "source": [
    "def entropy(x):\n",
    "    \"\"\" Calculate Entropy for a node\n",
    "    Args:\n",
    "        x: Numpy-array of targets in a node\n",
    "    Returns:\n",
    "        float: Entropy\n",
    "    \"\"\"\n",
    "    if len(x) == 0:\n",
    "        return 0.0\n",
    "    p = np.clip(np.bincount(x) / len(x), 1e-15, 1.)\n",
    "    return -np.sum(p * np.log(p))"
   ]
  },
  {
   "cell_type": "code",
   "execution_count": 162,
   "metadata": {
    "ExecuteTime": {
     "end_time": "2020-12-01T08:48:39.415230Z",
     "start_time": "2020-12-01T08:48:39.410243Z"
    }
   },
   "outputs": [],
   "source": [
    "def information_gain(parent_node, splits):\n",
    "    \"\"\" Calculate Information Gain for a particular split\n",
    "    Args:\n",
    "        parent_node: Numpy-array of targets in a parent node\n",
    "        splits: List of two numpy-arrays. Each numpy-array is targets in a child node\n",
    "    Returns:\n",
    "        float: Information Gain\n",
    "    \"\"\"     \n",
    "    splits_entropy = np.sum([entropy(split)*(len(split)/len(parent_node)) for split in splits])\n",
    "    return entropy(parent_node) - splits_entropy"
   ]
  },
  {
   "cell_type": "markdown",
   "metadata": {},
   "source": [
    "# Split function"
   ]
  },
  {
   "cell_type": "markdown",
   "metadata": {},
   "source": [
    "Implement split functions"
   ]
  },
  {
   "cell_type": "code",
   "execution_count": 163,
   "metadata": {
    "ExecuteTime": {
     "end_time": "2020-12-01T08:48:40.068764Z",
     "start_time": "2020-12-01T08:48:40.063788Z"
    }
   },
   "outputs": [],
   "source": [
    "def split(X, y, value):\n",
    "    \"\"\" Split y-values in order to calculate gain later\n",
    "    Args:\n",
    "        X: 1-dimensional numpy-array of data predictor with shape (N,)\n",
    "        y: 1-dimensional numpy-array of targets with shape (N,)\n",
    "        value (float): the value by which the X should be splitted\n",
    "    Returns:\n",
    "        Two 1-dimensional numpy-arrays with targets related to splits\n",
    "    \"\"\"      \n",
    "    left_mask = X < value\n",
    "    right_mask = X >= value\n",
    "    return y[left_mask], y[right_mask]\n",
    "\n",
    "\n",
    "def split_dataset(X, y, column, value):\n",
    "    \"\"\" Split dataset by a particular column and value\n",
    "    Args:\n",
    "        X: 2-dimensional numpy-array (N, num_feats). N-number of samples\n",
    "        y: 1-dimensional numpy-array of targets with shape (N,)  \n",
    "        column (int): the column by which the X should be splitted\n",
    "        value (float): the value by which the column should be splitted\n",
    "    Returns:\n",
    "        Two 2-dimensional numpy-arrays with data and two 1-dimensional numpy-arrays with targets related to splits\n",
    "        left_X, right_X, left_y, right_y\n",
    "    \"\"\"       \n",
    "    left_mask = X[:, column] < value\n",
    "    right_mask = X[:, column] >= value\n",
    "    left_y, right_y = y[left_mask], y[right_mask]\n",
    "    left_X, right_X = X[left_mask], X[right_mask]\n",
    "    return left_X, right_X, left_y, right_y"
   ]
  },
  {
   "cell_type": "markdown",
   "metadata": {},
   "source": [
    "# Decision tree"
   ]
  },
  {
   "cell_type": "code",
   "execution_count": 164,
   "metadata": {
    "ExecuteTime": {
     "end_time": "2020-12-01T08:48:40.412627Z",
     "start_time": "2020-12-01T08:48:40.393648Z"
    }
   },
   "outputs": [],
   "source": [
    "class Tree(object):\n",
    "    \"\"\"A decision tree classifier.\n",
    "\n",
    "    Args:\n",
    "        criterion : {\"gini_gain\", \"information_gain\"}\n",
    "    \"\"\"\n",
    "    def __init__(self, criterion=None):\n",
    "        self.impurity = None\n",
    "        self.threshold = None\n",
    "        self.column_index = None\n",
    "        self.outcome_probs = None\n",
    "        self.criterion = criterion\n",
    "        self.left_child = None\n",
    "        self.right_child = None\n",
    "\n",
    "    @property\n",
    "    def is_terminal(self):\n",
    "        \"\"\" Define is it terminal node\n",
    "        \"\"\"          \n",
    "        return not bool(self.left_child and self.right_child)\n",
    "\n",
    "    def _find_splits(self, X):\n",
    "        \"\"\"Find all possible split values.\"\"\"\n",
    "        split_values = set()\n",
    "\n",
    "        # Get unique values in a sorted order\n",
    "        x_unique = list(np.unique(X))\n",
    "        for i in range(1, len(x_unique)):\n",
    "            # Find a point between two values\n",
    "            average = (x_unique[i - 1] + x_unique[i]) / 2.0\n",
    "            split_values.add(average)\n",
    "\n",
    "        return list(split_values)\n",
    "\n",
    "    def _find_best_split(self, X, y, n_features):\n",
    "        \"\"\"Find best feature and value for a split. Greedy algorithm.\"\"\"\n",
    "\n",
    "        # Sample random subset of features\n",
    "        subset = random.sample(list(range(0, X.shape[1])), n_features)\n",
    "        max_gain, max_col, max_val = None, None, None\n",
    "\n",
    "        for column in subset:\n",
    "            split_values = self._find_splits(X[:, column])\n",
    "            for value in split_values:\n",
    "                splits = split(X[:, column], y, value)\n",
    "                gain = self.criterion(y, splits)\n",
    "\n",
    "                if (max_gain is None) or (gain > max_gain):\n",
    "                    max_col, max_val, max_gain = column, value, gain\n",
    "        return max_col, max_val, max_gain\n",
    "\n",
    "    def fit(self, X, y, n_features=None, max_depth=None):\n",
    "        \"\"\"Fit model.\n",
    "\n",
    "        Args:\n",
    "            X (numpy-array): The training input samples. 2-dimensional numpy array.\n",
    "            y (numpy-array): The target values. 1-dimensional numpy array.\n",
    "            n_features (int): The number of features when fit is performed (default: all features)\n",
    "            max_depth (int): The maximum depth of the tree. If None, then nodes are expanded until\n",
    "                             all leaves are pure.\n",
    "        \"\"\"        \n",
    "        try:\n",
    "            # Exit from recursion using assert syntax\n",
    "            if max_depth is not None:\n",
    "                assert max_depth > 0\n",
    "                max_depth -= 1\n",
    "\n",
    "            if n_features is None:\n",
    "                n_features = X.shape[1]\n",
    "\n",
    "            column, value, gain = self._find_best_split(X, y, n_features)\n",
    "            assert gain is not None\n",
    "\n",
    "            self.column_index = column\n",
    "            self.threshold = value\n",
    "            self.impurity = gain\n",
    "\n",
    "            # Split dataset\n",
    "            left_X, right_X, left_target, right_target = split_dataset(X, y, column, value)\n",
    "\n",
    "            # Grow left and right child\n",
    "            self.left_child = Tree(self.criterion)\n",
    "            self.left_child.fit(\n",
    "                left_X, left_target, n_features, max_depth\n",
    "            )\n",
    "\n",
    "            self.right_child = Tree(self.criterion)\n",
    "            self.right_child.fit(\n",
    "                right_X, right_target, n_features, max_depth\n",
    "            )\n",
    "        except AssertionError:\n",
    "            self.outcome_probs = np.around(np.sum(y) / y.shape[0])\n",
    "\n",
    "\n",
    "    def predict_row(self, row):\n",
    "        \"\"\"Predict single row.\"\"\"\n",
    "        if not self.is_terminal:\n",
    "            if row[self.column_index] < self.threshold:\n",
    "                return self.left_child.predict_row(row)\n",
    "            else:\n",
    "                return self.right_child.predict_row(row)\n",
    "        return self.outcome_probs\n",
    "\n",
    "    def predict(self, X):\n",
    "        \"\"\"Make predictions.\n",
    "\n",
    "        Args:\n",
    "            X (numpy-array): The test input samples. 2-dimensional numpy array.\n",
    "        \"\"\"  \n",
    "        result = np.zeros(X.shape[0])\n",
    "        for i in range(X.shape[0]):\n",
    "            result[i] = self.predict_row(X[i, :])\n",
    "        return result"
   ]
  },
  {
   "cell_type": "markdown",
   "metadata": {},
   "source": [
    "Fit two models with \"max_depth=3\" and \"max_depth=None\" hyperparameters. Explain the results."
   ]
  },
  {
   "cell_type": "code",
   "execution_count": 165,
   "metadata": {
    "ExecuteTime": {
     "end_time": "2020-12-01T08:48:45.836138Z",
     "start_time": "2020-12-01T08:48:41.916791Z"
    }
   },
   "outputs": [
    {
     "name": "stdout",
     "output_type": "stream",
     "text": [
      "Accuracy score is: 0.6666666666666666\n"
     ]
    }
   ],
   "source": [
    "model = Tree(criterion=gini_gain)\n",
    "model.fit(X_train.values, y_train.values)\n",
    "y_pred = model.predict(X_test.values)\n",
    "print(f\"Accuracy score is: {accuracy_score(y_test, y_pred)}\")"
   ]
  },
  {
   "cell_type": "code",
   "execution_count": 13,
   "metadata": {
    "ExecuteTime": {
     "end_time": "2020-12-01T08:48:41.915820Z",
     "start_time": "2020-12-01T08:48:40.891474Z"
    }
   },
   "outputs": [
    {
     "name": "stdout",
     "output_type": "stream",
     "text": [
      "Accuracy score is: 0.6666666666666666\n"
     ]
    }
   ],
   "source": [
    "model = Tree(criterion=gini_gain)\n",
    "model.fit(X_train.values, y_train.values, max_depth=3)\n",
    "y_pred = model.predict(X_test.values)\n",
    "print(f\"Accuracy score is: {accuracy_score(y_test, y_pred)}\")"
   ]
  },
  {
   "cell_type": "code",
   "execution_count": 14,
   "metadata": {},
   "outputs": [
    {
     "name": "stdout",
     "output_type": "stream",
     "text": [
      "Accuracy score is: 0.7380952380952381\n"
     ]
    }
   ],
   "source": [
    "model = Tree(criterion=information_gain)\n",
    "model.fit(X_train.values, y_train.values, max_depth=3)\n",
    "y_pred = model.predict(X_test.values)\n",
    "print(f\"Accuracy score is: {accuracy_score(y_test, y_pred)}\")"
   ]
  },
  {
   "cell_type": "markdown",
   "metadata": {},
   "source": [
    "# Random forest"
   ]
  },
  {
   "cell_type": "code",
   "execution_count": 185,
   "metadata": {
    "ExecuteTime": {
     "end_time": "2020-12-01T08:48:45.857086Z",
     "start_time": "2020-12-01T08:48:45.838139Z"
    }
   },
   "outputs": [],
   "source": [
    "class MyRandomForestClassifier(object):\n",
    "    \"\"\"\n",
    "    A random forest classifier.\n",
    "    A random forest is a meta estimator that fits a number of decision tree\n",
    "    classifiers on various sub-samples of the dataset and uses averaging to\n",
    "    improve the predictive accuracy and control overfitting.\n",
    "    \n",
    "    Args:\n",
    "        n_estimators : int, default=10\n",
    "            The number of trees in the forest.\n",
    "\n",
    "        max_depth : int, default=None\n",
    "            The maximum depth of the tree. If None, then nodes are expanded until\n",
    "            all leaves are pure.        \n",
    "\n",
    "        n_features : int, default=None\n",
    "            The number of features to consider when looking for the best split.\n",
    "            If None, then `n_features=sqrt(n_features)`.\n",
    "\n",
    "        criterion : {\"gini\", \"entropy\"}, default=\"gini\"\n",
    "            The function to measure the quality of a split. Supported criteria are\n",
    "            \"gini\" for the Gini impurity and \"entropy\" for the information gain.\n",
    "    \"\"\"\n",
    "\n",
    "    def __init__(self, n_estimators=10, max_depth=None, n_features=None, criterion=\"entropy\", bootstrap=True):\n",
    "        self.n_estimators = n_estimators\n",
    "        self.max_depth = max_depth\n",
    "        self.n_features = n_features\n",
    "        self.bootstrap = bootstrap\n",
    "        \n",
    "        if criterion == \"entropy\":\n",
    "            self.criterion = information_gain\n",
    "        elif criterion == \"gini\":\n",
    "            self.criterion = gini_gain\n",
    "        else:\n",
    "            raise ValueError(f\"Unknown criterion '{criterion}'\")\n",
    "            \n",
    "        self.trees = [Tree(criterion=self.criterion) for _ in range(n_estimators)]\n",
    "        \n",
    "    def _init_data(self, X, y):\n",
    "        \"\"\"Ensure data are in the expected format.\n",
    "        Ensures X and y are stored as numpy ndarrays by converting from an\n",
    "        array-like object if necessary. \n",
    "        Parameters\n",
    "        Args:\n",
    "            X : array-like\n",
    "                Feature dataset.\n",
    "            y : array-like, default=None\n",
    "                Target values. By default is required, but if y_required = false\n",
    "                then may be omitted.\n",
    "        \"\"\"\n",
    "        self.size = len(X)\n",
    "        \n",
    "        if not isinstance(X, np.ndarray):\n",
    "            self.X = np.array(X)\n",
    "        else:\n",
    "            self.X = X\n",
    "\n",
    "        if not isinstance(y, np.ndarray):\n",
    "            self.y = np.array(y)\n",
    "        else:\n",
    "            self.y = y\n",
    "            \n",
    "    def bootstrap_data(self, size):\n",
    "        return np.random.randint(size, size=size)\n",
    "    \n",
    "    def fit(self, X, y):\n",
    "        \"\"\"Fit model.\n",
    "\n",
    "        Args:\n",
    "            X (numpy-array): The training input samples. 2-dimensional numpy array.\n",
    "            y (numpy-array): The target values. 1-dimensional numpy array.\n",
    "        \"\"\"         \n",
    "        if self.n_features is None:\n",
    "            self.n_features = int(np.sqrt(X.shape[1]))\n",
    "        elif X.shape[1] < self.n_features:\n",
    "            raise ValueError(f\"'n_features should be <= n_features'\")\n",
    "            \n",
    "        self._init_data(X, y)\n",
    "        \n",
    "        for tree in self.trees:\n",
    "            if self.bootstrap:\n",
    "                idxs = self.bootstrap_data(self.size)\n",
    "                X = self.X[idxs]\n",
    "                y = self.y[idxs]\n",
    "            else:\n",
    "                X = self.X\n",
    "                y = self.y\n",
    "                \n",
    "            tree.fit(\n",
    "                X,\n",
    "                y,\n",
    "                n_features=self.n_features,\n",
    "                max_depth=self.max_depth,\n",
    "            )\n",
    "            \n",
    "    def predict(self, X):\n",
    "        \"\"\"Make predictions.\n",
    "\n",
    "        Args:\n",
    "            X (numpy-array): The test data input samples. 2-dimensional numpy array.\n",
    "        \"\"\"            \n",
    "        if not isinstance(X, np.ndarray):\n",
    "            X = np.array(X)\n",
    "\n",
    "        if self.X is not None:\n",
    "            predictions = np.zeros(len(X))\n",
    "            for i in range(len(X)):\n",
    "                row_pred = 0.\n",
    "                for tree in self.trees:\n",
    "                    row_pred += tree.predict_row(X[i, :])\n",
    "\n",
    "                row_pred /= self.n_estimators\n",
    "                predictions[i] = round(row_pred)\n",
    "            return predictions  \n",
    "        else:\n",
    "            raise ValueError(\"You should fit a model before `predict`\")"
   ]
  },
  {
   "cell_type": "markdown",
   "metadata": {},
   "source": [
    "Fit two models with \"n_estimators=10\" and \"n_estimators=100\" hyperparameters. Explain the results."
   ]
  },
  {
   "cell_type": "code",
   "execution_count": 16,
   "metadata": {
    "ExecuteTime": {
     "end_time": "2020-12-01T08:48:51.641967Z",
     "start_time": "2020-12-01T08:48:45.860076Z"
    }
   },
   "outputs": [
    {
     "name": "stdout",
     "output_type": "stream",
     "text": [
      "Accuracy score is: 0.8333333333333334\n"
     ]
    }
   ],
   "source": [
    "model = RandomForestClassifier(n_estimators=10, max_depth=None, n_features=None, criterion=\"entropy\")\n",
    "model.fit(X_train, y_train)\n",
    "y_pred = model.predict(X_test)\n",
    "print(f\"Accuracy score is: {accuracy_score(y_test, y_pred)}\")"
   ]
  },
  {
   "cell_type": "code",
   "execution_count": 17,
   "metadata": {
    "ExecuteTime": {
     "end_time": "2020-12-01T08:49:47.690531Z",
     "start_time": "2020-12-01T08:48:51.644919Z"
    }
   },
   "outputs": [
    {
     "name": "stdout",
     "output_type": "stream",
     "text": [
      "Accuracy score is: 0.8333333333333334\n"
     ]
    }
   ],
   "source": [
    "model = RandomForestClassifier(n_estimators=100, max_depth=None, n_features=None, criterion=\"entropy\")\n",
    "model.fit(X_train, y_train)\n",
    "y_pred = model.predict(X_test)\n",
    "print(f\"Accuracy score is: {accuracy_score(y_test, y_pred)}\")"
   ]
  },
  {
   "cell_type": "markdown",
   "metadata": {},
   "source": [
    "Now it's your turn to explore the various parameters of sklearn [RandomForestClassifier](https://scikit-learn.org/stable/modules/generated/sklearn.ensemble.RandomForestClassifier.html) and their influence on model quality."
   ]
  },
  {
   "cell_type": "markdown",
   "metadata": {},
   "source": [
    "# Homework part 1. RandomForestClassifier"
   ]
  },
  {
   "cell_type": "markdown",
   "metadata": {},
   "source": [
    "_Note_: Consider **accuracy** as main metric of model performance on this dataset."
   ]
  },
  {
   "cell_type": "code",
   "execution_count": 7,
   "metadata": {},
   "outputs": [],
   "source": [
    "from sklearn.ensemble import RandomForestClassifier"
   ]
  },
  {
   "cell_type": "markdown",
   "metadata": {},
   "source": [
    "**Task 1 (0.5 points)** Split the dataset into train, test and validation parts (0.6 / 0.2 / 0.2). First two will be used for model hyperparameter tuning whereas the best model quality should be evaluated on validation part."
   ]
  },
  {
   "cell_type": "code",
   "execution_count": 5,
   "metadata": {},
   "outputs": [],
   "source": [
    "X = df.drop(columns='target')\n",
    "y = df['target']\n",
    "# _r in the variables' names stands for ratio\n",
    "train_r = 0.6\n",
    "val_r = 0.2\n",
    "test_r = 0.2\n",
    "x_train, x_test, y_train, y_test = train_test_split(X, y, test_size=1-train_r, random_state=2021)\n",
    "x_val, x_test, y_val, y_test = train_test_split(x_test, y_test, test_size=test_r/(test_r + val_r), random_state=2021) "
   ]
  },
  {
   "cell_type": "markdown",
   "metadata": {},
   "source": [
    "**Task 2 (2 points)**. Apply '_greedy_' hyperparameter tuning of RandomForestClassifier model. '_Greedy_' way means the following general approach. At first we tune one model parameter whereas others are fixed with default values. Then we move on to tune the second parameter whereas others are fixed default values and first has the best values from previous step. After it we tune the third parameter with best fixed values for previous two and default values for the rest. Repeat until we go through all the parameters, then repeat this cycle if you are seeing a clear increase in the test metric. <br>\n",
    "\n",
    "Although this approach has a lot of disadvantages (you may think which ones), sometimes that is the only way to tune model typerparams due to big training time **if you understand how the model parameters are interrelated and the tuning order takes those dependencies into account.**<br>\n",
    "\n",
    "Here is one of the possible options for RandomForestClassifier:\n",
    "- Choose a decent value for number of trees using '_elbow_' rule. You may plot the dependence of accuracy on trees_num and pick up the number after which the error decreases not **as much as before**. \n",
    "- Pick up the best split criterion ('gini' / 'entropy') and then tune _max_depth_, _min_samples_split_, _min_samples_leaf_.\n",
    "- Increase number of trees with best found parameters so far.\n",
    "- Repeat this excersice starting from picking the best split criterion while other params are fixed with best values from previous steps **if you observe a significant test metric improvement**. Otherwise just stop and measure your best model result on validation set."
   ]
  },
  {
   "cell_type": "code",
   "execution_count": 37,
   "metadata": {},
   "outputs": [],
   "source": [
    "# elbow rule\n",
    "result = [0]\n",
    "trees_num = np.arange(0, 100, 1)\n",
    "for number in trees_num[1:]:\n",
    "    model = RandomForestClassifier(n_estimators=number, random_state=2021)\n",
    "    model.fit(x_train, y_train)\n",
    "    result.append(accuracy_score(y_test, model.predict(x_test)))"
   ]
  },
  {
   "cell_type": "code",
   "execution_count": 38,
   "metadata": {},
   "outputs": [
    {
     "data": {
      "image/png": "[encoded data removed]",
      "text/plain": [
       "<Figure size 864x576 with 1 Axes>"
      ]
     },
     "metadata": {},
     "output_type": "display_data"
    }
   ],
   "source": [
    "# plotting the elbow \n",
    "sns.set(rc={'figure.figsize':(12,8)})\n",
    "ax = sns.lineplot(x=trees_num, y=result)\n",
    "ax.set_ylim([0,1])\n",
    "ax.set(xlabel='Number of trees', ylabel='Accuracy')\n",
    "plt.show()"
   ]
  },
  {
   "cell_type": "code",
   "execution_count": 56,
   "metadata": {},
   "outputs": [
    {
     "name": "stdout",
     "output_type": "stream",
     "text": [
      "Best criterion value is entropy\n",
      "Best max_depth value is 4\n",
      "Best min_samples_split value is 5\n",
      "Best min_samples_leaf value is 1\n",
      "Increase in accuracy = 0.238\n",
      "Accuracy on n_trees=21: 0.738 (difference=0.0). Stopping.\n",
      "Best parameters:\n",
      "criterion : entropy\n",
      "max_depth : 4\n",
      "min_samples_split : 5\n",
      "min_samples_leaf : 1\n",
      "n_estimators : 20\n",
      "Best model accuracy on validation dataset is 0.833\n"
     ]
    }
   ],
   "source": [
    "# let's start with 20 trees as an OK starting point (the elbow bends there)\n",
    "\n",
    "# now we need to find the best parameters for the current number of trees\n",
    "n_trees = 20\n",
    "\n",
    "best_parameters = {}\n",
    "\n",
    "parameters = {\n",
    "    'criterion': ['gini', 'entropy'],\n",
    "    'max_depth': np.arange(1, len(y_train)), \n",
    "    'min_samples_split': np.arange(2, len(y_train)), \n",
    "    'min_samples_leaf': np.arange(1, round(len(y_train)/2))\n",
    "}\n",
    "\n",
    "accuracy = 0\n",
    "diff_accuracy = 1\n",
    "current_accuracy = 0\n",
    "\n",
    "# setting a threshold\n",
    "while diff_accuracy > 0.01: \n",
    "    for variable in parameters: \n",
    "        current_accuracy = 0\n",
    "        best_value = None\n",
    "        curr_parameters = copy.copy(best_parameters)\n",
    "        \n",
    "        #iterating over every parameter one by one\n",
    "        for value in parameters[variable]: \n",
    "            curr_parameters[variable] = value \n",
    "            model = RandomForestClassifier(n_estimators=n_trees, **curr_parameters, random_state=2021)\n",
    "            model.fit(x_train, y_train)\n",
    "            accuracy = accuracy_score(y_test, model.predict(x_test))\n",
    "            if (accuracy > current_accuracy):\n",
    "                current_accuracy = accuracy\n",
    "                best_value = value\n",
    "        best_parameters[variable] = best_value\n",
    "        print(f'Best {variable} value is {best_value}')\n",
    "    \n",
    "    # checking if there's any difference between current number of trees and the next one\n",
    "    diff_accuracy = current_accuracy - accuracy\n",
    "    print(f'Increase in accuracy = {round(diff_accuracy, 3)}')\n",
    "    accuracy = current_accuracy\n",
    "    n_trees += 1 \n",
    "    model = RandomForestClassifier(n_estimators=n_trees, **best_parameters, random_state=2021)\n",
    "    model.fit(x_train, y_train)\n",
    "    new_accuracy = accuracy_score(y_test, model.predict(x_test))\n",
    "    if (new_accuracy <= current_accuracy): \n",
    "        print(f'Accuracy on n_trees={n_trees}: {round(new_accuracy, 3)} (difference={new_accuracy - accuracy}). Stopping.')\n",
    "        n_trees = n_trees - 1\n",
    "        break\n",
    "        \n",
    "# printing all the found parameters\n",
    "best_parameters['n_estimators'] = n_trees\n",
    "print('Best parameters:')\n",
    "for key, value in best_parameters.items():\n",
    "    print(key, ':', value)\n",
    "\n",
    "# validating the best constructed model\n",
    "model = RandomForestClassifier(**best_parameters, random_state=2021)\n",
    "model.fit(x_train, y_train)\n",
    "print(f'Best model accuracy on validation dataset is {round(accuracy_score(y_val, model.predict(x_val)), 3)}')"
   ]
  },
  {
   "cell_type": "markdown",
   "metadata": {},
   "source": [
    "### Grid Search and Random Search"
   ]
  },
  {
   "cell_type": "markdown",
   "metadata": {},
   "source": [
    "If you have enough computational power for model training in a reasonable amount of time more sophisticated approach of hyperparameter tuning would be either Grid Search or Random Search.<br>\n",
    "\n",
    "In a nutshell Grid Search allows you to pass through all different combinations of given model parameters and their values and choose the best combination. Whereas Random Search would randomly choose values for given model parameters and evaluate them on test data untill it reaches the specified number of iterations.<br>\n",
    "\n",
    "More information here [Gentle introduction to Grid and Random search](https://medium.com/@senapati.dipak97/grid-search-vs-random-search-d34c92946318) and here [Detailed Explanation with code examples](https://machinelearningmastery.com/hyperparameter-optimization-with-random-search-and-grid-search/)."
   ]
  },
  {
   "attachments": {
    "grid_random_search.png": {
     "image/png": "[encoded data removed]"
    }
   },
   "cell_type": "markdown",
   "metadata": {},
   "source": [
    "![grid_random_search.png](attachment:grid_random_search.png)"
   ]
  },
  {
   "cell_type": "markdown",
   "metadata": {},
   "source": [
    "**Task 3 (1 point)**. Compare your previous results with [GridSearch](https://scikit-learn.org/stable/modules/generated/sklearn.model_selection.GridSearchCV.html) hyperparameter tuning. You may tune best hyperparameters for forest with several trees and then increase it while measure the quality on validation dataset."
   ]
  },
  {
   "cell_type": "code",
   "execution_count": 75,
   "metadata": {
    "scrolled": true
   },
   "outputs": [
    {
     "name": "stdout",
     "output_type": "stream",
     "text": [
      "n_trees=5\n",
      "Best parameters in Grid Search:\n",
      "{'criterion': 'entropy', 'max_depth': 4, 'min_samples_leaf': 11, 'min_samples_split': 2}\n",
      "Model accuracy on validation is 0.786\n",
      "n_trees=7\n",
      "Best parameters in Grid Search:\n",
      "{'criterion': 'gini', 'max_depth': 6, 'min_samples_leaf': 1, 'min_samples_split': 3}\n",
      "Model accuracy on validation is 0.857\n",
      "n_trees=9\n",
      "Best parameters in Grid Search:\n",
      "{'criterion': 'gini', 'max_depth': 6, 'min_samples_leaf': 1, 'min_samples_split': 3}\n",
      "Model accuracy on validation is 0.881\n",
      "n_trees=11\n",
      "Best parameters in Grid Search:\n",
      "{'criterion': 'gini', 'max_depth': 6, 'min_samples_leaf': 1, 'min_samples_split': 3}\n",
      "Model accuracy on validation is 0.905\n",
      "n_trees=13\n",
      "Best parameters in Grid Search:\n",
      "{'criterion': 'gini', 'max_depth': 5, 'min_samples_leaf': 1, 'min_samples_split': 2}\n",
      "Model accuracy on validation is 0.857\n",
      "n_trees=15\n",
      "Best parameters in Grid Search:\n",
      "{'criterion': 'gini', 'max_depth': 6, 'min_samples_leaf': 1, 'min_samples_split': 3}\n",
      "Model accuracy on validation is 0.952\n",
      "n_trees=17\n",
      "Best parameters in Grid Search:\n",
      "{'criterion': 'gini', 'max_depth': 6, 'min_samples_leaf': 1, 'min_samples_split': 3}\n",
      "Model accuracy on validation is 0.952\n",
      "n_trees=19\n",
      "Best parameters in Grid Search:\n",
      "{'criterion': 'gini', 'max_depth': 6, 'min_samples_leaf': 1, 'min_samples_split': 2}\n",
      "Model accuracy on validation is 0.905\n",
      "n_trees=21\n",
      "Best parameters in Grid Search:\n",
      "{'criterion': 'gini', 'max_depth': 6, 'min_samples_leaf': 1, 'min_samples_split': 2}\n",
      "Model accuracy on validation is 0.881\n",
      "n_trees=23\n",
      "Best parameters in Grid Search:\n",
      "{'criterion': 'gini', 'max_depth': 6, 'min_samples_leaf': 1, 'min_samples_split': 3}\n",
      "Model accuracy on validation is 0.929\n",
      "n_trees=25\n",
      "Best parameters in Grid Search:\n",
      "{'criterion': 'gini', 'max_depth': 6, 'min_samples_leaf': 1, 'min_samples_split': 3}\n",
      "Model accuracy on validation is 0.905\n",
      "n_trees=27\n",
      "Best parameters in Grid Search:\n",
      "{'criterion': 'gini', 'max_depth': 6, 'min_samples_leaf': 1, 'min_samples_split': 3}\n",
      "Model accuracy on validation is 0.905\n",
      "n_trees=29\n",
      "Best parameters in Grid Search:\n",
      "{'criterion': 'gini', 'max_depth': 6, 'min_samples_leaf': 1, 'min_samples_split': 3}\n",
      "Model accuracy on validation is 0.881\n",
      "n_trees=31\n",
      "Best parameters in Grid Search:\n",
      "{'criterion': 'gini', 'max_depth': 6, 'min_samples_leaf': 1, 'min_samples_split': 2}\n",
      "Model accuracy on validation is 0.881\n",
      "n_trees=33\n",
      "Best parameters in Grid Search:\n",
      "{'criterion': 'gini', 'max_depth': 6, 'min_samples_leaf': 1, 'min_samples_split': 2}\n",
      "Model accuracy on validation is 0.857\n",
      "n_trees=35\n",
      "Best parameters in Grid Search:\n",
      "{'criterion': 'gini', 'max_depth': 6, 'min_samples_leaf': 1, 'min_samples_split': 2}\n",
      "Model accuracy on validation is 0.857\n",
      "n_trees=37\n",
      "Best parameters in Grid Search:\n",
      "{'criterion': 'gini', 'max_depth': 6, 'min_samples_leaf': 1, 'min_samples_split': 2}\n",
      "Model accuracy on validation is 0.81\n",
      "n_trees=39\n",
      "Best parameters in Grid Search:\n",
      "{'criterion': 'gini', 'max_depth': 6, 'min_samples_leaf': 1, 'min_samples_split': 2}\n",
      "Model accuracy on validation is 0.857\n",
      "n_trees=41\n",
      "Best parameters in Grid Search:\n",
      "{'criterion': 'gini', 'max_depth': 6, 'min_samples_leaf': 1, 'min_samples_split': 2}\n",
      "Model accuracy on validation is 0.833\n",
      "n_trees=43\n",
      "Best parameters in Grid Search:\n",
      "{'criterion': 'gini', 'max_depth': 6, 'min_samples_leaf': 1, 'min_samples_split': 2}\n",
      "Model accuracy on validation is 0.81\n",
      "n_trees=45\n",
      "Best parameters in Grid Search:\n",
      "{'criterion': 'entropy', 'max_depth': 6, 'min_samples_leaf': 1, 'min_samples_split': 3}\n",
      "Model accuracy on validation is 0.881\n",
      "n_trees=47\n",
      "Best parameters in Grid Search:\n",
      "{'criterion': 'entropy', 'max_depth': 6, 'min_samples_leaf': 1, 'min_samples_split': 3}\n",
      "Model accuracy on validation is 0.905\n",
      "n_trees=49\n",
      "Best parameters in Grid Search:\n",
      "{'criterion': 'entropy', 'max_depth': 6, 'min_samples_leaf': 1, 'min_samples_split': 2}\n",
      "Model accuracy on validation is 0.881\n",
      "Best parameters found in Grid Search:\n",
      "criterion : gini\n",
      "max_depth : 6\n",
      "min_samples_leaf : 1\n",
      "min_samples_split : 3\n",
      "n_estimators : 15\n"
     ]
    }
   ],
   "source": [
    "# Grid Search time!\n",
    "parameters = {'criterion': ('gini', 'entropy'), \n",
    " 'max_depth': np.arange(1, 7), \n",
    " 'min_samples_split': np.arange(2, 10), \n",
    " 'min_samples_leaf': np.arange(1, 40)}\n",
    "\n",
    "max_validation_acc = 0\n",
    "best_parameters = {}\n",
    "for n_trees in np.arange(5, 51, 2):\n",
    "    grid_search = GridSearchCV(estimator=RandomForestClassifier(random_state=2021, n_estimators=n_trees), \n",
    "                               param_grid=parameters, \n",
    "                               scoring='accuracy', n_jobs=10, cv=3).fit(x_train.append(x_test), y_train.append(y_test))\n",
    "\n",
    "    validation_acc = accuracy_score(y_val, grid_search.predict(x_val))\n",
    "    print(f'n_trees={n_trees}')\n",
    "    print(f'Best parameters in Grid Search:\\n{grid_search.best_params_}')\n",
    "    print(f'Model accuracy on validation is {round(validation_acc, 3)}')\n",
    "    if (validation_acc - max_validation_acc > 0.01):\n",
    "        max_validation_acc = validation_acc\n",
    "        best_parameters = grid_search.best_params_\n",
    "        best_parameters['n_estimators'] = n_trees\n",
    "        \n",
    "print('Best parameters found in Grid Search:')\n",
    "for key, value in best_parameters.items():\n",
    "    print(key, ':', value)"
   ]
  },
  {
   "cell_type": "markdown",
   "metadata": {},
   "source": [
    "**Task 4 (1 point)**. And finally tune forest hyperparameters with [RandomSearch](https://scikit-learn.org/stable/modules/generated/sklearn.model_selection.RandomizedSearchCV.html). Compare results to previous attempts."
   ]
  },
  {
   "cell_type": "code",
   "execution_count": 76,
   "metadata": {
    "scrolled": true
   },
   "outputs": [
    {
     "name": "stdout",
     "output_type": "stream",
     "text": [
      "n_trees=5\n",
      "Best parameters:\n",
      "{'min_samples_split': 6, 'min_samples_leaf': 26, 'max_depth': 4, 'criterion': 'gini'}\n",
      "Model accuracy on validation is 0.81\n",
      "n_trees=7\n",
      "Best parameters:\n",
      "{'min_samples_split': 7, 'min_samples_leaf': 6, 'max_depth': 3, 'criterion': 'gini'}\n",
      "Model accuracy on validation is 0.714\n",
      "n_trees=9\n",
      "Best parameters:\n",
      "{'min_samples_split': 8, 'min_samples_leaf': 17, 'max_depth': 1, 'criterion': 'entropy'}\n",
      "Model accuracy on validation is 0.786\n",
      "n_trees=11\n",
      "Best parameters:\n",
      "{'min_samples_split': 7, 'min_samples_leaf': 6, 'max_depth': 3, 'criterion': 'gini'}\n",
      "Model accuracy on validation is 0.786\n",
      "n_trees=13\n",
      "Best parameters:\n",
      "{'min_samples_split': 7, 'min_samples_leaf': 6, 'max_depth': 3, 'criterion': 'gini'}\n",
      "Model accuracy on validation is 0.738\n",
      "n_trees=15\n",
      "Best parameters:\n",
      "{'min_samples_split': 8, 'min_samples_leaf': 17, 'max_depth': 1, 'criterion': 'entropy'}\n",
      "Model accuracy on validation is 0.714\n",
      "n_trees=17\n",
      "Best parameters:\n",
      "{'min_samples_split': 7, 'min_samples_leaf': 6, 'max_depth': 3, 'criterion': 'gini'}\n",
      "Model accuracy on validation is 0.738\n",
      "n_trees=19\n",
      "Best parameters:\n",
      "{'min_samples_split': 8, 'min_samples_leaf': 17, 'max_depth': 1, 'criterion': 'entropy'}\n",
      "Model accuracy on validation is 0.762\n",
      "n_trees=21\n",
      "Best parameters:\n",
      "{'min_samples_split': 8, 'min_samples_leaf': 17, 'max_depth': 1, 'criterion': 'entropy'}\n",
      "Model accuracy on validation is 0.762\n",
      "n_trees=23\n",
      "Best parameters:\n",
      "{'min_samples_split': 8, 'min_samples_leaf': 17, 'max_depth': 1, 'criterion': 'entropy'}\n",
      "Model accuracy on validation is 0.762\n",
      "n_trees=25\n",
      "Best parameters:\n",
      "{'min_samples_split': 8, 'min_samples_leaf': 17, 'max_depth': 1, 'criterion': 'entropy'}\n",
      "Model accuracy on validation is 0.762\n",
      "n_trees=27\n",
      "Best parameters:\n",
      "{'min_samples_split': 8, 'min_samples_leaf': 17, 'max_depth': 1, 'criterion': 'entropy'}\n",
      "Model accuracy on validation is 0.762\n",
      "n_trees=29\n",
      "Best parameters:\n",
      "{'min_samples_split': 8, 'min_samples_leaf': 17, 'max_depth': 1, 'criterion': 'entropy'}\n",
      "Model accuracy on validation is 0.81\n",
      "n_trees=31\n",
      "Best parameters:\n",
      "{'min_samples_split': 7, 'min_samples_leaf': 6, 'max_depth': 3, 'criterion': 'gini'}\n",
      "Model accuracy on validation is 0.833\n",
      "n_trees=33\n",
      "Best parameters:\n",
      "{'min_samples_split': 7, 'min_samples_leaf': 6, 'max_depth': 3, 'criterion': 'gini'}\n",
      "Model accuracy on validation is 0.81\n",
      "n_trees=35\n",
      "Best parameters:\n",
      "{'min_samples_split': 7, 'min_samples_leaf': 6, 'max_depth': 3, 'criterion': 'gini'}\n",
      "Model accuracy on validation is 0.833\n",
      "n_trees=37\n",
      "Best parameters:\n",
      "{'min_samples_split': 7, 'min_samples_leaf': 6, 'max_depth': 3, 'criterion': 'gini'}\n",
      "Model accuracy on validation is 0.881\n",
      "n_trees=39\n",
      "Best parameters:\n",
      "{'min_samples_split': 7, 'min_samples_leaf': 6, 'max_depth': 3, 'criterion': 'gini'}\n",
      "Model accuracy on validation is 0.881\n",
      "n_trees=41\n",
      "Best parameters:\n",
      "{'min_samples_split': 8, 'min_samples_leaf': 17, 'max_depth': 1, 'criterion': 'entropy'}\n",
      "Model accuracy on validation is 0.81\n",
      "n_trees=43\n",
      "Best parameters:\n",
      "{'min_samples_split': 8, 'min_samples_leaf': 17, 'max_depth': 1, 'criterion': 'entropy'}\n",
      "Model accuracy on validation is 0.81\n",
      "n_trees=45\n",
      "Best parameters:\n",
      "{'min_samples_split': 8, 'min_samples_leaf': 17, 'max_depth': 1, 'criterion': 'entropy'}\n",
      "Model accuracy on validation is 0.81\n",
      "n_trees=47\n",
      "Best parameters:\n",
      "{'min_samples_split': 6, 'min_samples_leaf': 26, 'max_depth': 4, 'criterion': 'gini'}\n",
      "Model accuracy on validation is 0.857\n",
      "n_trees=49\n",
      "Best parameters:\n",
      "{'min_samples_split': 7, 'min_samples_leaf': 6, 'max_depth': 3, 'criterion': 'gini'}\n",
      "Model accuracy on validation is 0.833\n",
      "\n",
      "Best parameters found in RandomSearchCV:\n",
      "min_samples_split : 7\n",
      "min_samples_leaf : 6\n",
      "max_depth : 3\n",
      "criterion : gini\n",
      "n_estimators : 37\n"
     ]
    }
   ],
   "source": [
    "# Random Search time!\n",
    "\n",
    "parameters = {'criterion': ('gini', 'entropy'), \n",
    " 'max_depth': np.arange(1, 7), \n",
    " 'min_samples_split': np.arange(2, 10), \n",
    " 'min_samples_leaf': np.arange(1, 40)}\n",
    "\n",
    "max_validation_acc = 0\n",
    "best_parameters = {}\n",
    "for n_trees in np.arange(5, 51, 2):\n",
    "    random_search = RandomizedSearchCV(estimator=RandomForestClassifier(random_state=2021, n_estimators=n_trees), \n",
    "                               param_distributions=parameters, \n",
    "                               scoring='accuracy', n_jobs=-1, cv=3, random_state=2021).fit(x_train.append(x_test), y_train.append(y_test))\n",
    "\n",
    "    validation_acc = accuracy_score(y_val, random_search.predict(x_val))\n",
    "    print(f'n_trees={n_trees}')\n",
    "    print(f'Best parameters:\\n{random_search.best_params_}')\n",
    "    print(f'Model accuracy on validation is {round(validation_acc, 3)}')\n",
    "    if (validation_acc - max_validation_acc > 0.01):\n",
    "        max_validation_acc = validation_acc\n",
    "        best_parameters = random_search.best_params_\n",
    "        best_parameters['n_estimators'] = n_trees\n",
    "        \n",
    "print('\\nBest parameters found in RandomSearchCV:')\n",
    "for key, value in best_parameters.items():\n",
    "    print(key, ':', value)"
   ]
  },
  {
   "cell_type": "markdown",
   "metadata": {},
   "source": [
    "**Task 5 (0.5 points)**. Tell us about your experience in hyperparameter tuning with the approaches above. What do you think would be the best option for this task and why?"
   ]
  },
  {
   "cell_type": "markdown",
   "metadata": {},
   "source": [
    "#### Comparing my results\n",
    "\n",
    "##### Accuracy on validation dataset\n",
    "1. Greedy: 0.833\n",
    "2. GridSearch: 0.952\n",
    "3. RandomSearch: 0.881\n",
    "\n",
    "##### Best option\n",
    "Grid Search gives excellent results but it is very slow on a large number of trees. \n",
    "Results produced by the Random Search are also great, and it is much faster, and the number of estimators (trees) is significantly higher than in Grid Search. Therefore, the model selected by Random Search will take much more time when predicting unknown samples in large datasets.\n",
    "\n",
    "Greedy Search is not an optimal way to select model parameters, because you're lowering your chances on tuning into the perfect combination, as we are selecting parameters independently, one by one, limiting our options on every step. It is fast, tho :)"
   ]
  },
  {
   "cell_type": "markdown",
   "metadata": {},
   "source": [
    "### Desicion tree explained"
   ]
  },
  {
   "cell_type": "markdown",
   "metadata": {},
   "source": [
    "Remember the [Titanic](https://www.kaggle.com/c/titanic) competition from last week? Wouldn't be a good idea to visualize one of possible desicion-making processes of _survived_ / _dead_ labeling?"
   ]
  },
  {
   "cell_type": "markdown",
   "metadata": {},
   "source": [
    "**Task 6 (1 point)**. Load titanic dataset, split it into train/test parts, apply simple hyperparameter tuning of [DesicionTreeClassifier](https://scikit-learn.org/stable/modules/generated/sklearn.tree.DecisionTreeClassifier.html) (use one of the approaches above) in order to have **test accuracy more than 0.65**. <br>\n",
    "\n",
    "Draw the best tree decision making process. You may use [sklearn.tree.prot_tree](https://scikit-learn.org/stable/modules/generated/sklearn.tree.plot_tree.html).<br>"
   ]
  },
  {
   "cell_type": "code",
   "execution_count": 109,
   "metadata": {},
   "outputs": [
    {
     "name": "stdout",
     "output_type": "stream",
     "text": [
      "Accuracy: 0.7597765363128491\n"
     ]
    }
   ],
   "source": [
    "from sklearn.tree import DecisionTreeClassifier, plot_tree\n",
    "from sklearn.preprocessing import LabelEncoder\n",
    "\n",
    "titanic_data = pd.read_csv(PATH+'/titanic/train.csv').set_index('PassengerId')\n",
    "\n",
    "titanic_data['Age'] = titanic_data['Age'].fillna(titanic_data['Age'].median())\n",
    "titanic_data['Embarked'] = titanic_data['Embarked'].fillna('NA')\n",
    "titanic_data['FamSize'] = titanic_data['Parch'] + titanic_data['SibSp']\n",
    "columns_to_drop = ['Cabin', 'Name', 'Ticket', 'Parch', 'SibSp']\n",
    "titanic_data = titanic_data.drop(columns=columns_to_drop)\n",
    "titanic_data['Sex'] = LabelEncoder().fit_transform(titanic_data['Sex'])\n",
    "titanic_data['Embarked'] = LabelEncoder().fit_transform(titanic_data['Embarked'])\n",
    "       \n",
    "\n",
    "X = titanic_data.drop(columns=['Survived'])\n",
    "y = titanic_data['Survived']\n",
    "\n",
    "X_train_tit, X_test_tit, y_train_tit, y_test_tit = train_test_split(X, y, test_size=0.2, random_state=2021)\n",
    "\n",
    "parameters = {'criterion': ('gini', 'entropy'),\n",
    "              'splitter': ('best', 'random'),\n",
    "              'max_depth': np.arange(1, 4),\n",
    "              'min_samples_split': np.arange(5, 10), \n",
    "              'min_samples_leaf': np.arange(2, 10)}\n",
    "\n",
    "titanic_tree = GridSearchCV(estimator=DecisionTreeClassifier(random_state=2021), \n",
    "                           param_grid=parameters, n_jobs=-1).fit(X_train_tit, y_train_tit)\n",
    "\n",
    "print(f'Accuracy: {accuracy_score(y_test_tit, titanic_tree.predict(X_test_tit))}')"
   ]
  },
  {
   "cell_type": "code",
   "execution_count": 113,
   "metadata": {},
   "outputs": [
    {
     "data": {
      "image/png": "[encoded data removed]",
      "text/plain": [
       "<Figure size 1440x720 with 1 Axes>"
      ]
     },
     "metadata": {},
     "output_type": "display_data"
    }
   ],
   "source": [
    "# let's draw a tree!\n",
    "plt.figure(figsize=(20,10))\n",
    "plot_tree(titanic_tree.best_estimator_, filled=True, fontsize=16, feature_names=X_train_tit.columns, \\\n",
    "          class_names=['deceased', 'survived'])\n",
    "plt.show()"
   ]
  },
  {
   "cell_type": "markdown",
   "metadata": {},
   "source": [
    "Is it easy to interpret its results? Are you able to explain to a random person why would he survive / die on the titanic?\n",
    "\n",
    "##### No, it is rather counterintuitive, but to some degree you can try to make assumptions, e.g., if you are a young wealthy lady, you're more likely to survive, if you are a man, you're more likely to die, etc. \n",
    "\n",
    "##### Not sure if this tree representation is the most helpful one, because the deeper the tree, the more difficult it is to interpret it. As for me, it is suitable only for trees with max_depth not greater than 5, otherwise it is horrible."
   ]
  },
  {
   "cell_type": "markdown",
   "metadata": {},
   "source": [
    "# Homework part 2. RandomForestRegressor"
   ]
  },
  {
   "cell_type": "markdown",
   "metadata": {},
   "source": [
    "**Task 7 (2 points)**. Write your own *DecisionTreeRegressor* class with _MSE_ split criterion and settable parameter *max_depth*. Demonstrate its consistency on the proposed artificial data (or some other) by comparing MSE of train predictions with [sklearn.tree.DecisionTreeRegressor](https://scikit-learn.org/stable/modules/generated/sklearn.tree.DecisionTreeRegressor.html). <br>\n",
    "\n",
    "Provide examples for different _max_depth_ parameter.\n",
    "\n",
    "Of course you may re-use code for *DecisionTreeClassifier*. You need to figure out what needs to be changed in it for Classification -> Regression transformation.<br>\n",
    "\n",
    "**! You are allowed to use only NumPy library** in this assigment."
   ]
  },
  {
   "cell_type": "code",
   "execution_count": 116,
   "metadata": {},
   "outputs": [],
   "source": [
    "import numpy as np\n",
    "\n",
    "def f(X):\n",
    "    return X[:, 0]**3 + np.log(np.exp(X[:, 1]) + np.exp(X[:, 2])) + np.sqrt(abs(X[:, 3])) * X[:, 4]\n",
    "\n",
    "n_samples = 100\n",
    "\n",
    "stdv = 1. / np.sqrt(5)\n",
    "\n",
    "X = np.random.uniform(-stdv, stdv, size = (n_samples, 5))\n",
    "y = f(X)"
   ]
  },
  {
   "cell_type": "code",
   "execution_count": 125,
   "metadata": {},
   "outputs": [],
   "source": [
    "def mean_squared_error(arr1, arr2):\n",
    "    error = ((arr1 - arr2) ** 2).mean()\n",
    "    return error\n",
    "    \n",
    "def mse(split):\n",
    "    \"\"\" \n",
    "    Calculates MSE for a split, compares values with the mean.\n",
    "    Args:\n",
    "        split: Numpy array\n",
    "    Returns:\n",
    "        float: MSE\n",
    "    \"\"\"     \n",
    "    \n",
    "    return mean_squared_error(split, np.repeat(np.mean(split), len(split)))\n",
    "\n",
    "def mse_gain(parent_node, splits):\n",
    "    \"\"\" \n",
    "    Calculates MSE gain for a particular split.\n",
    "    Args:\n",
    "        parent_node: Numpy array of target values in a parent node\n",
    "        splits: List of two numpy arrays of target values in a child node\n",
    "    Returns:\n",
    "        float: MSE gain\n",
    "    \"\"\"     \n",
    "    splits_mse = np.sum([mse(split) * (len(split) / len(parent_node)) for split in splits])\n",
    "    return mse(parent_node) - splits_mse"
   ]
  },
  {
   "cell_type": "code",
   "execution_count": 128,
   "metadata": {},
   "outputs": [],
   "source": [
    "class MyDecisionTreeRegressor:\n",
    "    def __init__(self, max_depth=None):\n",
    "        self.impurity = None\n",
    "        self.threshold = None\n",
    "        self.column_index = None\n",
    "        self.outcome_probs = None\n",
    "        self.criterion = mse_gain\n",
    "        self.left_child = None\n",
    "        self.right_child = None\n",
    "        self.max_depth = max_depth\n",
    "\n",
    "    @property\n",
    "    def is_terminal(self):\n",
    "        \"\"\" \n",
    "        Defines the node is terminal\n",
    "        \"\"\"          \n",
    "        return not bool(self.left_child and self.right_child)\n",
    "    \n",
    "    def _find_splits(self, X):\n",
    "        \"\"\"Find all possible split values.\"\"\"\n",
    "        split_values = set()\n",
    "\n",
    "        # Get unique values in a sorted order\n",
    "        x_unique = list(np.unique(X))\n",
    "        for i in range(1, len(x_unique)):\n",
    "            # Find a point between two values\n",
    "            average = (x_unique[i - 1] + x_unique[i]) / 2.0\n",
    "            split_values.add(average)\n",
    "\n",
    "        return list(split_values)\n",
    "\n",
    "    def _find_best_split(self, X, y, n_features):\n",
    "        \"\"\"Find best feature and value for a split. Greedy algorithm.\"\"\"\n",
    "\n",
    "        # Sample random subset of features\n",
    "        subset = random.sample(list(range(0, X.shape[1])), n_features)\n",
    "        max_gain, max_col, max_val = None, None, None\n",
    "\n",
    "        for column in subset:\n",
    "            split_values = self._find_splits(X[:, column])\n",
    "            for value in split_values:\n",
    "                splits = split(X[:, column], y, value)\n",
    "                gain = self.criterion(y, splits)\n",
    "\n",
    "                if (max_gain is None) or (gain > max_gain):\n",
    "                    max_col, max_val, max_gain = column, value, gain\n",
    "        return max_col, max_val, max_gain\n",
    "\n",
    "    def fit(self, X, y, n_features=None):\n",
    "        \"\"\"Model fit.\n",
    "\n",
    "        Args:\n",
    "            X (numpy-array): The training input samples. 2-dimensional numpy array.\n",
    "            y (numpy-array): The target values. 1-dimensional numpy array.\n",
    "            n_features (int): The number of features when fit is performed (default: all features)\n",
    "        \"\"\"        \n",
    "        try:\n",
    "            # Exit from recursion using assert syntax\n",
    "            if self.max_depth is not None:\n",
    "                assert self.max_depth > 0\n",
    "\n",
    "            if n_features is None:\n",
    "                n_features = X.shape[1]\n",
    "\n",
    "            column, value, gain = self._find_best_split(X, y, n_features)\n",
    "            assert gain is not None\n",
    "\n",
    "            self.column_index = column\n",
    "            self.threshold = value\n",
    "            self.impurity = gain\n",
    "\n",
    "            # split dataset\n",
    "            left_X, right_X, left_target, right_target = split_dataset(X, y, column, value)\n",
    "\n",
    "            # grow left and right child\n",
    "            self.left_child = MyDecisionTreeRegressor(self.max_depth if self.max_depth == None else self.max_depth - 1)\n",
    "            self.left_child.fit(left_X, left_target, n_features)\n",
    "\n",
    "            self.right_child = MyDecisionTreeRegressor(self.max_depth if self.max_depth == None else self.max_depth - 1)\n",
    "            self.right_child.fit(right_X, right_target, n_features)\n",
    "        except AssertionError:\n",
    "            self.outcome_probs = np.sum(y) / y.shape[0]\n",
    "\n",
    "\n",
    "    def predict_row(self, row):\n",
    "        \"\"\"\n",
    "        Predicts a single row.\n",
    "        \"\"\"\n",
    "        if not self.is_terminal:\n",
    "            if row[self.column_index] < self.threshold:\n",
    "                return self.left_child.predict_row(row)\n",
    "            else:\n",
    "                return self.right_child.predict_row(row)\n",
    "        return self.outcome_probs\n",
    "\n",
    "    def predict(self, X):\n",
    "        \"\"\"\n",
    "        Makes predictions.\n",
    "\n",
    "        Args:\n",
    "            X (numpy-array): The test input samples. 2-dimensional numpy array.\n",
    "        \"\"\"  \n",
    "        result = np.zeros(X.shape[0])\n",
    "        for i in range(X.shape[0]):\n",
    "            result[i] = self.predict_row(X[i, :])\n",
    "        return result"
   ]
  },
  {
   "cell_type": "code",
   "execution_count": 138,
   "metadata": {},
   "outputs": [
    {
     "name": "stdout",
     "output_type": "stream",
     "text": [
      "Train MSE on my model: 0.0\n",
      "Train MSE on sklearn model: 0.0\n",
      "\n",
      "Test MSE on my model: 0.02421\n",
      "Test MSE on sklearn model: 0.0239\n"
     ]
    }
   ],
   "source": [
    "# results comparison with sklearn DT Regressor\n",
    "from sklearn.tree import DecisionTreeRegressor\n",
    "X_p2_train, X_p2_test, y_p2_train, y_p2_test = train_test_split(X, y, test_size=0.2, random_state=2021)\n",
    "\n",
    "my_model = MyDecisionTreeRegressor()\n",
    "my_model.fit(X_p2_train, y_p2_train)\n",
    "my_pred_y = my_model.predict(X_p2_test)\n",
    "\n",
    "sk_model = DecisionTreeRegressor(random_state=2021)\n",
    "sk_model.fit(X_p2_train, y_p2_train)\n",
    "sk_pred_y = sk_model.predict(X_p2_test)\n",
    "\n",
    "print(f'Train MSE for my model: {mean_squared_error(y_p2_train, my_model.predict(X_p2_train))}')\n",
    "print(f'Train MSE for sklearn model: {mean_squared_error(y_p2_train, sk_model.predict(X_p2_train))}')\n",
    "print()\n",
    "print(f'Test MSE for my model: {round(mean_squared_error(y_p2_test, my_pred_y), 5)}')\n",
    "print(f'Test MSE for sklearn model: {round(mean_squared_error(y_p2_test, sk_pred_y), 5)}')"
   ]
  },
  {
   "cell_type": "markdown",
   "metadata": {},
   "source": [
    "##### MSE values for the training set are equal for both custom and sklearn DTRegressors, and MSE values for the test set are very close and differ only in the third decimal place."
   ]
  },
  {
   "cell_type": "code",
   "execution_count": 149,
   "metadata": {},
   "outputs": [
    {
     "name": "stdout",
     "output_type": "stream",
     "text": [
      "\n",
      "max depth = 2\n",
      "Train MSE for my model: 0.01615\n",
      "Train MSE for sklearn model: 0.01615\n",
      "Test MSE for my model: 0.01799\n",
      "Test MSE for sklearn model: 0.01799\n",
      "\n",
      "max depth = 4\n",
      "Train MSE for my model: 0.00369\n",
      "Train MSE for sklearn model: 0.00369\n",
      "Test MSE for my model: 0.0256\n",
      "Test MSE for sklearn model: 0.02045\n",
      "\n",
      "max depth = 6\n",
      "Train MSE for my model: 0.0002\n",
      "Train MSE for sklearn model: 0.0002\n",
      "Test MSE for my model: 0.02021\n",
      "Test MSE for sklearn model: 0.03117\n",
      "\n",
      "max depth = 8\n",
      "Train MSE for my model: 0.0\n",
      "Train MSE for sklearn model: 0.0\n",
      "Test MSE for my model: 0.01956\n",
      "Test MSE for sklearn model: 0.02382\n"
     ]
    }
   ],
   "source": [
    "# different max depth values check\n",
    "\n",
    "for maxdepth in np.arange(2, 10, 2):\n",
    "    my_model = MyDecisionTreeRegressor(max_depth=maxdepth)\n",
    "    my_model.fit(X_p2_train, y_p2_train)\n",
    "    my_pred_y = my_model.predict(X_p2_test)\n",
    "\n",
    "    sk_model = DecisionTreeRegressor(max_depth=maxdepth, random_state=2021)\n",
    "    sk_model.fit(X_p2_train, y_p2_train)\n",
    "    sk_pred_y = sk_model.predict(X_p2_test)\n",
    "\n",
    "    print(f'\\nmax depth = {maxdepth}')\n",
    "    print(f'Train MSE for my model: {round(mean_squared_error(y_p2_train, my_model.predict(X_p2_train)), 5)}')\n",
    "    print(f'Train MSE for sklearn model: {round(mean_squared_error(y_p2_train, sk_model.predict(X_p2_train)), 5)}')\n",
    "    print(f'Test MSE for my model: {round(mean_squared_error(y_p2_test, my_pred_y), 5)}')\n",
    "    print(f'Test MSE for sklearn model: {round(mean_squared_error(y_p2_test, sk_pred_y), 5)}')"
   ]
  },
  {
   "cell_type": "markdown",
   "metadata": {},
   "source": [
    "##### MSE values for custom and sklearn models are the same for the train set and virtually the same for the test set for every maximum depth value. Custom model performs equally to the sklearn DecisionTreeRegressor class."
   ]
  },
  {
   "cell_type": "markdown",
   "metadata": {},
   "source": [
    "**Task 8 (2 points)**. Write your own _RandomForestRegressor_ class with MSE split criterion and settable parameter _max_depth_.  Demonstrate its consistency on the proposed artificial data (or some other) by comparing MSE of train predictions with [sklearn.ensemble.RandomForestRegressor](https://scikit-learn.org/stable/modules/generated/sklearn.ensemble.RandomForestRegressor.html).<br>\n",
    "\n",
    "Provide examples for different max_depth parameter.<br>\n",
    "\n",
    "**! You are allowed to use only NumPy library** in this assigment."
   ]
  },
  {
   "cell_type": "code",
   "execution_count": 145,
   "metadata": {},
   "outputs": [],
   "source": [
    "class MyRandomForestRegressor(object):\n",
    "    \"\"\"\n",
    "    A random forest regressor.\n",
    "    A random forest is a meta estimator that fits a number of decision tree\n",
    "    regressors on various sub-samples of the dataset and uses averaging to\n",
    "    improve the predictive accuracy and control overfitting.\n",
    "    \n",
    "    Args:\n",
    "        n_estimators : int, default=10\n",
    "            The number of trees in the forest.\n",
    "\n",
    "        max_depth : int, default=None\n",
    "            The maximum depth of the tree. If None, then nodes are expanded until\n",
    "            all leaves are pure.        \n",
    "\n",
    "        n_features : int, default=None\n",
    "            The number of features to consider when looking for the best split.\n",
    "            If None, then `n_features=sqrt(n_features)`.\n",
    "\n",
    "        criterion : {\"gini\", \"entropy\"}, default=\"gini\"\n",
    "            The function to measure the quality of a split. Supported criteria are\n",
    "            \"gini\" for the Gini impurity and \"entropy\" for the information gain.\n",
    "    \"\"\"\n",
    "\n",
    "    def __init__(self, n_estimators=10, max_depth=None, n_features=None, bootstrap=True):\n",
    "        self.n_estimators = n_estimators\n",
    "        self.max_depth = max_depth\n",
    "        self.n_features = n_features\n",
    "        self.bootstrap = bootstrap\n",
    "        \n",
    "        self.criterion = mse_gain\n",
    "            \n",
    "        self.trees = [MyDecisionTreeRegressor(max_depth=max_depth) for _ in range(n_estimators)]\n",
    "        \n",
    "    def _init_data(self, X, y):\n",
    "        \"\"\"\n",
    "        Ensures that data are in the expected format.\n",
    "        Ensures that X and y are stored as numpy ndarrays by converting from an\n",
    "        array-like object if necessary. \n",
    "        Parameters\n",
    "        Args:\n",
    "            X : array-like\n",
    "                Feature dataset.\n",
    "            y : array-like, default=None\n",
    "                Target values. By default is required, but if y_required = false\n",
    "                then may be omitted.\n",
    "        \"\"\"\n",
    "        self.size = len(X)\n",
    "        \n",
    "        if not isinstance(X, np.ndarray):\n",
    "            self.X = np.array(X)\n",
    "        else:\n",
    "            self.X = X\n",
    "\n",
    "        if not isinstance(y, np.ndarray):\n",
    "            self.y = np.array(y)\n",
    "        else:\n",
    "            self.y = y\n",
    "            \n",
    "    def bootstrap_data(self, size):\n",
    "        return np.random.randint(size, size=size)\n",
    "    \n",
    "    def fit(self, X, y):\n",
    "        \"\"\"\n",
    "        Fits model.\n",
    "\n",
    "        Args:\n",
    "            X (numpy-array): The training input samples. 2-dimensional numpy array.\n",
    "            y (numpy-array): The target values. 1-dimensional numpy array.\n",
    "        \"\"\"         \n",
    "        if self.n_features is None:\n",
    "            self.n_features = int(np.sqrt(X.shape[1]))\n",
    "        elif X.shape[1] < self.n_features:\n",
    "            raise ValueError(f\"'n_features should be <= n_features'\")\n",
    "            \n",
    "        self._init_data(X, y)\n",
    "        \n",
    "        for tree in self.trees:\n",
    "            if self.bootstrap:\n",
    "                idxs = self.bootstrap_data(self.size)\n",
    "                X = self.X[idxs]\n",
    "                y = self.y[idxs]\n",
    "            else:\n",
    "                X = self.X\n",
    "                y = self.y\n",
    "                \n",
    "            tree.fit(X, y)\n",
    "            \n",
    "    def predict(self, X):\n",
    "        \"\"\"\n",
    "        Makes predictions.\n",
    "\n",
    "        Args:\n",
    "            X (numpy-array): The test data input samples. 2-dimensional numpy array.\n",
    "        \"\"\"            \n",
    "        if not isinstance(X, np.ndarray):\n",
    "            X = np.array(X)\n",
    "\n",
    "        if self.X is not None:\n",
    "            predictions = np.zeros(len(X))\n",
    "            for i in range(len(X)):\n",
    "                row_pred = 0.\n",
    "                for tree in self.trees:\n",
    "                    row_pred += tree.predict_row(X[i, :])\n",
    "                predictions[i] = row_pred / self.n_estimators\n",
    "            return predictions  \n",
    "        else:\n",
    "            raise ValueError(\"You should fit a model before `predict`\")"
   ]
  },
  {
   "cell_type": "code",
   "execution_count": 147,
   "metadata": {},
   "outputs": [
    {
     "name": "stdout",
     "output_type": "stream",
     "text": [
      "Train MSE for my model: 0.00164\n",
      "Train MSE for sklearn model: 0.00203\n",
      "\n",
      "Test MSE for my model: 0.00676\n",
      "Test MSE for sklearn model: 0.00773\n"
     ]
    }
   ],
   "source": [
    "# results comparison with sklearn RandomForestRegressor\n",
    "from sklearn.ensemble import RandomForestRegressor\n",
    "\n",
    "my_RFmodel = MyRandomForestRegressor(n_estimators=10)\n",
    "my_RFmodel.fit(X_p2_train, y_p2_train)\n",
    "my_pred_y = my_RFmodel.predict(X_p2_test)\n",
    "\n",
    "sk_RFmodel = RandomForestRegressor(n_estimators=10, random_state=2021)\n",
    "sk_RFmodel.fit(X_p2_train, y_p2_train)\n",
    "sk_pred_y = sk_RFmodel.predict(X_p2_test)\n",
    "\n",
    "print(f'Train MSE for my model: {round(mean_squared_error(y_p2_train, my_RFmodel.predict(X_p2_train)), 5)}')\n",
    "print(f'Train MSE for sklearn model: {round(mean_squared_error(y_p2_train, sk_RFmodel.predict(X_p2_train)), 5)}')\n",
    "print()\n",
    "print(f'Test MSE for my model: {round(mean_squared_error(y_p2_test, my_pred_y), 5)}')\n",
    "print(f'Test MSE for sklearn model: {round(mean_squared_error(y_p2_test, sk_pred_y), 5)}')"
   ]
  },
  {
   "cell_type": "code",
   "execution_count": 150,
   "metadata": {},
   "outputs": [
    {
     "name": "stdout",
     "output_type": "stream",
     "text": [
      "\n",
      "max depth = 2\n",
      "Train MSE for my model: 0.01073\n",
      "Train MSE for sklearn model: 0.01023\n",
      "Test MSE for my model: 0.01025\n",
      "Test MSE for sklearn model: 0.01085\n",
      "\n",
      "max depth = 4\n",
      "Train MSE for my model: 0.00387\n",
      "Train MSE for sklearn model: 0.00246\n",
      "Test MSE for my model: 0.00983\n",
      "Test MSE for sklearn model: 0.00777\n",
      "\n",
      "max depth = 6\n",
      "Train MSE for my model: 0.00181\n",
      "Train MSE for sklearn model: 0.00134\n",
      "Test MSE for my model: 0.01154\n",
      "Test MSE for sklearn model: 0.00719\n",
      "\n",
      "max depth = 8\n",
      "Train MSE for my model: 0.00201\n",
      "Train MSE for sklearn model: 0.00125\n",
      "Test MSE for my model: 0.01019\n",
      "Test MSE for sklearn model: 0.00776\n"
     ]
    }
   ],
   "source": [
    "# different max depth values check\n",
    "\n",
    "for maxdepth in np.arange(2, 10, 2):\n",
    "    my_model = MyRandomForestRegressor(max_depth=maxdepth)\n",
    "    my_model.fit(X_p2_train, y_p2_train)\n",
    "    my_pred_y = my_model.predict(X_p2_test)\n",
    "\n",
    "    sk_model = RandomForestRegressor(max_depth=maxdepth, random_state=2021)\n",
    "    sk_model.fit(X_p2_train, y_p2_train)\n",
    "    sk_pred_y = sk_model.predict(X_p2_test)\n",
    "\n",
    "    print(f'\\nmax depth = {maxdepth}')\n",
    "    print(f'Train MSE for my model: {round(mean_squared_error(y_p2_train, my_model.predict(X_p2_train)), 5)}')\n",
    "    print(f'Train MSE for sklearn model: {round(mean_squared_error(y_p2_train, sk_model.predict(X_p2_train)), 5)}')\n",
    "    print(f'Test MSE for my model: {round(mean_squared_error(y_p2_test, my_pred_y), 5)}')\n",
    "    print(f'Test MSE for sklearn model: {round(mean_squared_error(y_p2_test, sk_pred_y), 5)}')"
   ]
  },
  {
   "cell_type": "markdown",
   "metadata": {},
   "source": [
    "##### As for Decision Tree Regressor, for Random Forest Regressor both custom and sklearn models performance is almost equal, MSE differ only slightly for the train and test sets, as it depends on the randomness. Maximum depth increase lowers MSE values but makes predictions slower, exactly as expected."
   ]
  },
  {
   "cell_type": "markdown",
   "metadata": {},
   "source": [
    "# Homework part 3 (bonus). Speeding up forest training process"
   ]
  },
  {
   "cell_type": "markdown",
   "metadata": {},
   "source": [
    "**Task 9 (3 points)** Devise a way to speed up training against the default version of our custom _RandomForestClassifier_ or your own _RandomForestRegressor_. You may want use [`joblib`](https://joblib.readthedocs.io/en/latest/) for parallelizing trees training. Provide graphs of time dependences on the number of trees in your _fast_ version with different number of cores / threads used against default one."
   ]
  },
  {
   "cell_type": "code",
   "execution_count": 166,
   "metadata": {},
   "outputs": [],
   "source": [
    "from joblib import Parallel, delayed\n",
    "from sklearn import tree\n",
    "\n",
    "# data splitting\n",
    "X_p3_train, X_p3_test, y_p3_train, y_p3_test = train_test_split(df.drop(columns='target'), df['target'], test_size=0.2,\\\n",
    "                                                                random_state=2021)\n",
    "\n",
    "# running functions in separate jobs\n",
    "class RandomForestClassifierParallel(object):\n",
    "    \"\"\"\n",
    "    A random forest classifier.\n",
    "    Args:\n",
    "        n_estimators : int, default=10\n",
    "            The number of trees in the forest.\n",
    "\n",
    "        max_depth : int, default=None\n",
    "            The maximum depth of the tree. If None, then nodes are expanded until\n",
    "            all leaves are pure.        \n",
    "\n",
    "        n_features : int, default=None\n",
    "            The number of features to consider when looking for the best split.\n",
    "            If None, then `n_features=sqrt(n_features)`.\n",
    "\n",
    "        criterion : {\"gini\", \"entropy\"}, default=\"gini\"\n",
    "            The function to measure the quality of a split. Supported criteria are\n",
    "            \"gini\" for the Gini impurity and \"entropy\" for the information gain.\n",
    "    \"\"\"\n",
    "\n",
    "    def __init__(self, n_estimators=10, max_depth=None, n_features=None, criterion=\"entropy\", bootstrap=True, n_jobs=2):\n",
    "        self.n_estimators = n_estimators\n",
    "        self.max_depth = max_depth\n",
    "        self.n_features = n_features\n",
    "        self.bootstrap = bootstrap\n",
    "        self.n_jobs = n_jobs\n",
    "        \n",
    "        if criterion == \"entropy\":\n",
    "            self.criterion = information_gain\n",
    "        elif criterion == \"gini\":\n",
    "            self.criterion = gini_gain\n",
    "        else:\n",
    "            raise ValueError(f\"Unknown criterion '{criterion}'\")\n",
    "            \n",
    "        self.trees = [Tree(criterion=self.criterion) for _ in range(n_estimators)]\n",
    "        \n",
    "    def _init_data(self, X, y):\n",
    "        \"\"\"\n",
    "        Ensures that data are in the expected format.\n",
    "        Ensures that X and y are stored as numpy ndarrays by converting from an\n",
    "        array-like object if necessary. \n",
    "        Parameters\n",
    "        Args:\n",
    "            X : array-like\n",
    "                Feature dataset.\n",
    "            y : array-like, default=None\n",
    "                Target values. By default is required, but if y_required = false\n",
    "                then may be omitted.\n",
    "        \"\"\"\n",
    "        self.size = len(X)\n",
    "        \n",
    "        if not isinstance(X, np.ndarray):\n",
    "            self.X = np.array(X)\n",
    "        else:\n",
    "            self.X = X\n",
    "\n",
    "        if not isinstance(y, np.ndarray):\n",
    "            self.y = np.array(y)\n",
    "        else:\n",
    "            self.y = y\n",
    "            \n",
    "    def bootstrap_data(self, size):\n",
    "        return np.random.randint(size, size=size)\n",
    "    \n",
    "    def fit_tree(self, tree):\n",
    "        if self.bootstrap:\n",
    "            idxs = self.bootstrap_data(self.size)\n",
    "            X = self.X[idxs]\n",
    "            y = self.y[idxs]\n",
    "        else:\n",
    "            X = self.X\n",
    "            y = self.y\n",
    "\n",
    "        tree.fit(\n",
    "            X,\n",
    "            y,\n",
    "            n_features=self.n_features,\n",
    "            max_depth=self.max_depth,\n",
    "        )\n",
    "        return tree\n",
    "        \n",
    "    def fit(self, X, y):\n",
    "        \"\"\"\n",
    "        Fits model.\n",
    "\n",
    "        Args:\n",
    "            X (numpy-array): The training input samples. 2-dimensional numpy array.\n",
    "            y (numpy-array): The target values. 1-dimensional numpy array.\n",
    "        \"\"\"         \n",
    "        if self.n_features is None:\n",
    "            self.n_features = int(np.sqrt(X.shape[1]))\n",
    "        elif X.shape[1] < self.n_features:\n",
    "            raise ValueError(f\"'n_features should be <= n_features'\")\n",
    "            \n",
    "        self._init_data(X, y)\n",
    "        # Parallel here\n",
    "        self.trees = Parallel(n_jobs=self.n_jobs)(delayed(self.fit_tree)(tree) for tree in self.trees)\n",
    "\n",
    "    def predict(self, X):\n",
    "        \"\"\"\n",
    "        Makes predictions.\n",
    "\n",
    "        Args:\n",
    "            X (numpy-array): The test data input samples. 2-dimensional numpy array.\n",
    "        \"\"\"            \n",
    "        if not isinstance(X, np.ndarray):\n",
    "            X = np.array(X)\n",
    "\n",
    "        if self.X is not None:\n",
    "            predictions = np.zeros(len(X))\n",
    "            for i in range(len(X)):\n",
    "                row_pred = 0.\n",
    "                for tree in self.trees:\n",
    "                    row_pred += tree.predict_row(X[i, :])\n",
    "\n",
    "                row_pred /= self.n_estimators\n",
    "                predictions[i] = round(row_pred)\n",
    "            return predictions  \n",
    "        else:\n",
    "            raise ValueError(\"You should fit a model before `predict`\")"
   ]
  },
  {
   "cell_type": "code",
   "execution_count": 167,
   "metadata": {},
   "outputs": [
    {
     "name": "stdout",
     "output_type": "stream",
     "text": [
      "Train MSE on no multithreading model: 0.0\n"
     ]
    }
   ],
   "source": [
    "# measure accuracy with no multithreading\n",
    "zero_model = RandomForestClassifier(n_estimators=10)\n",
    "zero_model.fit(X_p3_train, y_p3_train)\n",
    "print(f'Train MSE on no multithreading model: {mean_squared_error(y_p3_train, zero_model.predict(X_p3_train))}')"
   ]
  },
  {
   "cell_type": "code",
   "execution_count": 168,
   "metadata": {},
   "outputs": [
    {
     "name": "stdout",
     "output_type": "stream",
     "text": [
      "Train MSE on 2 threads:    0.0\n",
      "Train MSE on 3 threads:    0.0\n",
      "Train MSE on 4 threads:    0.0\n",
      "Train MSE on 5 threads:    0.0\n",
      "Train MSE on 6 threads:    0.01205\n",
      "Train MSE on 7 threads:    0.0\n"
     ]
    }
   ],
   "source": [
    "# accuracy for multithreading models\n",
    "for n_jobs in np.arange(2, 8):\n",
    "    mt_model = RandomForestClassifierParallel(n_estimators=10, n_jobs=n_jobs)\n",
    "    mt_model.fit(X_p3_train, y_p3_train)\n",
    "    print(f'Train MSE on {n_jobs} threads:    {round(mean_squared_error(y_p3_train, mt_model.predict(X_p3_train)), 5)}')"
   ]
  },
  {
   "cell_type": "code",
   "execution_count": 169,
   "metadata": {},
   "outputs": [],
   "source": [
    "# now it's time to measure time (no pun intended)\n",
    "import time\n",
    "\n",
    "def time_test(model):\n",
    "    results = []\n",
    "    for _ in np.arange(3): \n",
    "        start = time.process_time()\n",
    "        model.fit(X_p3_train, y_p3_train)\n",
    "        results.append(time.process_time() - start)\n",
    "    return np.mean(results)"
   ]
  },
  {
   "cell_type": "code",
   "execution_count": 189,
   "metadata": {},
   "outputs": [],
   "source": [
    "# time for default sklearn implementation\n",
    "result = pd.DataFrame(columns=['n_jobs', 'n_estimators', 'time'])\n",
    "for n_jobs in np.arange(1, 3):\n",
    "    jobs_results = []\n",
    "    for n_trees in np.arange(1, 25, 5):\n",
    "        result = result.append({'n_jobs': f'sklearn: {n_jobs}', 'n_estimators': n_trees,\\\n",
    "                                'time': time_test(RandomForestClassifier(n_estimators=n, n_jobs=n_jobs))}, ignore_index=True)"
   ]
  },
  {
   "cell_type": "code",
   "execution_count": 191,
   "metadata": {},
   "outputs": [],
   "source": [
    "# different n_jobs models time measurement\n",
    "for n_jobs in [1, 2, 4]:\n",
    "    jobs_results = []\n",
    "    for n_trees in np.arange(1, 25, 5):\n",
    "        if n_jobs == 1:\n",
    "            result = result.append({'n_jobs': 'single job', 'n_estimators': n_trees, 'time': \\\n",
    "                                    time_test(MyRandomForestClassifier(n_estimators=n_trees))}, ignore_index=True)\n",
    "        else:\n",
    "            result = result.append({'n_jobs': f'{n_jobs} jobs','n_estimators': n_trees,'time': \\\n",
    "                                    time_test(RandomForestClassifierParallel(n_estimators=n_trees, n_jobs=n_jobs))}, ignore_index=True)"
   ]
  },
  {
   "cell_type": "code",
   "execution_count": 192,
   "metadata": {},
   "outputs": [
    {
     "data": {
      "image/png": "[encoded data removed]",
      "text/plain": [
       "<Figure size 864x576 with 1 Axes>"
      ]
     },
     "metadata": {},
     "output_type": "display_data"
    }
   ],
   "source": [
    "sns.lineplot( data=result, x='n_estimators', y='time', hue='n_jobs')\n",
    "plt.title('Average model fitting time')\n",
    "plt.xlabel('Number of trees')\n",
    "plt.ylabel('Fitting time')\n",
    "plt.show()"
   ]
  },
  {
   "cell_type": "markdown",
   "metadata": {},
   "source": [
    "##### The plot above allows us to see two things:\n",
    "1) sklearn implementation of machine learning methods are very well optimized!\n",
    "\n",
    "2) Multithreading reduces computation time significantly for models with rather large number of trees (exactly as expected)."
   ]
  },
  {
   "cell_type": "markdown",
   "metadata": {},
   "source": [
    "Whew! Thanks for making it to the end of this incredibly long notebook! Hope you had at least a small amoun of fun scoring it :)"
   ]
  }
 ],
 "metadata": {
  "kernelspec": {
   "display_name": "Python 3",
   "language": "python",
   "name": "python3"
  },
  "language_info": {
   "codemirror_mode": {
    "name": "ipython",
    "version": 3
   },
   "file_extension": ".py",
   "mimetype": "text/x-python",
   "name": "python",
   "nbconvert_exporter": "python",
   "pygments_lexer": "ipython3",
   "version": "3.8.3"
  },
  "toc": {
   "base_numbering": 1,
   "nav_menu": {},
   "number_sections": true,
   "sideBar": true,
   "skip_h1_title": false,
   "title_cell": "Table of Contents",
   "title_sidebar": "Contents",
   "toc_cell": false,
   "toc_position": {
    "height": "calc(100% - 180px)",
    "left": "10px",
    "top": "150px",
    "width": "235px"
   },
   "toc_section_display": true,
   "toc_window_display": true
  }
 },
 "nbformat": 4,
 "nbformat_minor": 4
}
